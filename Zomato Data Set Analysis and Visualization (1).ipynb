{
 "cells": [
  {
   "cell_type": "markdown",
   "id": "8dfa4fad",
   "metadata": {},
   "source": [
    "# Zomato Data Set Analysis and Visualization"
   ]
  },
  {
   "cell_type": "markdown",
   "id": "e6f89dfe",
   "metadata": {},
   "source": [
    "### Importing Libraries"
   ]
  },
  {
   "cell_type": "code",
   "execution_count": 38,
   "id": "3a52f50f",
   "metadata": {},
   "outputs": [],
   "source": [
    "import pandas as pd\n",
    "import numpy as np\n",
    "import matplotlib.pyplot as plt\n",
    "import seaborn as sns\n",
    "plt.style.use('dark_background')"
   ]
  },
  {
   "cell_type": "code",
   "execution_count": 37,
   "id": "45bb9bcd",
   "metadata": {},
   "outputs": [],
   "source": [
    "# Supress Warnings\n",
    "\n",
    "import warnings\n",
    "warnings.filterwarnings('ignore')\n"
   ]
  },
  {
   "cell_type": "markdown",
   "id": "9f3313be",
   "metadata": {},
   "source": [
    "### Reading CSV"
   ]
  },
  {
   "cell_type": "code",
   "execution_count": 2,
   "id": "0b86fa77",
   "metadata": {},
   "outputs": [
    {
     "data": {
      "text/html": [
       "<div>\n",
       "<style scoped>\n",
       "    .dataframe tbody tr th:only-of-type {\n",
       "        vertical-align: middle;\n",
       "    }\n",
       "\n",
       "    .dataframe tbody tr th {\n",
       "        vertical-align: top;\n",
       "    }\n",
       "\n",
       "    .dataframe thead th {\n",
       "        text-align: right;\n",
       "    }\n",
       "</style>\n",
       "<table border=\"1\" class=\"dataframe\">\n",
       "  <thead>\n",
       "    <tr style=\"text-align: right;\">\n",
       "      <th></th>\n",
       "      <th>url</th>\n",
       "      <th>address</th>\n",
       "      <th>name</th>\n",
       "      <th>online_order</th>\n",
       "      <th>book_table</th>\n",
       "      <th>rate</th>\n",
       "      <th>votes</th>\n",
       "      <th>phone</th>\n",
       "      <th>location</th>\n",
       "      <th>rest_type</th>\n",
       "      <th>dish_liked</th>\n",
       "      <th>cuisines</th>\n",
       "      <th>approx_cost(for two people)</th>\n",
       "      <th>reviews_list</th>\n",
       "      <th>menu_item</th>\n",
       "      <th>listed_in(type)</th>\n",
       "      <th>listed_in(city)</th>\n",
       "    </tr>\n",
       "  </thead>\n",
       "  <tbody>\n",
       "    <tr>\n",
       "      <th>0</th>\n",
       "      <td>https://www.zomato.com/bangalore/jalsa-banasha...</td>\n",
       "      <td>942, 21st Main Road, 2nd Stage, Banashankari, ...</td>\n",
       "      <td>Jalsa</td>\n",
       "      <td>Yes</td>\n",
       "      <td>Yes</td>\n",
       "      <td>4.1/5</td>\n",
       "      <td>775</td>\n",
       "      <td>080 42297555\\r\\n+91 9743772233</td>\n",
       "      <td>Banashankari</td>\n",
       "      <td>Casual Dining</td>\n",
       "      <td>Pasta, Lunch Buffet, Masala Papad, Paneer Laja...</td>\n",
       "      <td>North Indian, Mughlai, Chinese</td>\n",
       "      <td>800</td>\n",
       "      <td>[('Rated 4.0', 'RATED\\n  A beautiful place to ...</td>\n",
       "      <td>[]</td>\n",
       "      <td>Buffet</td>\n",
       "      <td>Banashankari</td>\n",
       "    </tr>\n",
       "    <tr>\n",
       "      <th>1</th>\n",
       "      <td>https://www.zomato.com/bangalore/spice-elephan...</td>\n",
       "      <td>2nd Floor, 80 Feet Road, Near Big Bazaar, 6th ...</td>\n",
       "      <td>Spice Elephant</td>\n",
       "      <td>Yes</td>\n",
       "      <td>No</td>\n",
       "      <td>4.1/5</td>\n",
       "      <td>787</td>\n",
       "      <td>080 41714161</td>\n",
       "      <td>Banashankari</td>\n",
       "      <td>Casual Dining</td>\n",
       "      <td>Momos, Lunch Buffet, Chocolate Nirvana, Thai G...</td>\n",
       "      <td>Chinese, North Indian, Thai</td>\n",
       "      <td>800</td>\n",
       "      <td>[('Rated 4.0', 'RATED\\n  Had been here for din...</td>\n",
       "      <td>[]</td>\n",
       "      <td>Buffet</td>\n",
       "      <td>Banashankari</td>\n",
       "    </tr>\n",
       "    <tr>\n",
       "      <th>2</th>\n",
       "      <td>https://www.zomato.com/SanchurroBangalore?cont...</td>\n",
       "      <td>1112, Next to KIMS Medical College, 17th Cross...</td>\n",
       "      <td>San Churro Cafe</td>\n",
       "      <td>Yes</td>\n",
       "      <td>No</td>\n",
       "      <td>3.8/5</td>\n",
       "      <td>918</td>\n",
       "      <td>+91 9663487993</td>\n",
       "      <td>Banashankari</td>\n",
       "      <td>Cafe, Casual Dining</td>\n",
       "      <td>Churros, Cannelloni, Minestrone Soup, Hot Choc...</td>\n",
       "      <td>Cafe, Mexican, Italian</td>\n",
       "      <td>800</td>\n",
       "      <td>[('Rated 3.0', \"RATED\\n  Ambience is not that ...</td>\n",
       "      <td>[]</td>\n",
       "      <td>Buffet</td>\n",
       "      <td>Banashankari</td>\n",
       "    </tr>\n",
       "    <tr>\n",
       "      <th>3</th>\n",
       "      <td>https://www.zomato.com/bangalore/addhuri-udupi...</td>\n",
       "      <td>1st Floor, Annakuteera, 3rd Stage, Banashankar...</td>\n",
       "      <td>Addhuri Udupi Bhojana</td>\n",
       "      <td>No</td>\n",
       "      <td>No</td>\n",
       "      <td>3.7/5</td>\n",
       "      <td>88</td>\n",
       "      <td>+91 9620009302</td>\n",
       "      <td>Banashankari</td>\n",
       "      <td>Quick Bites</td>\n",
       "      <td>Masala Dosa</td>\n",
       "      <td>South Indian, North Indian</td>\n",
       "      <td>300</td>\n",
       "      <td>[('Rated 4.0', \"RATED\\n  Great food and proper...</td>\n",
       "      <td>[]</td>\n",
       "      <td>Buffet</td>\n",
       "      <td>Banashankari</td>\n",
       "    </tr>\n",
       "    <tr>\n",
       "      <th>4</th>\n",
       "      <td>https://www.zomato.com/bangalore/grand-village...</td>\n",
       "      <td>10, 3rd Floor, Lakshmi Associates, Gandhi Baza...</td>\n",
       "      <td>Grand Village</td>\n",
       "      <td>No</td>\n",
       "      <td>No</td>\n",
       "      <td>3.8/5</td>\n",
       "      <td>166</td>\n",
       "      <td>+91 8026612447\\r\\n+91 9901210005</td>\n",
       "      <td>Basavanagudi</td>\n",
       "      <td>Casual Dining</td>\n",
       "      <td>Panipuri, Gol Gappe</td>\n",
       "      <td>North Indian, Rajasthani</td>\n",
       "      <td>600</td>\n",
       "      <td>[('Rated 4.0', 'RATED\\n  Very good restaurant ...</td>\n",
       "      <td>[]</td>\n",
       "      <td>Buffet</td>\n",
       "      <td>Banashankari</td>\n",
       "    </tr>\n",
       "  </tbody>\n",
       "</table>\n",
       "</div>"
      ],
      "text/plain": [
       "                                                 url  \\\n",
       "0  https://www.zomato.com/bangalore/jalsa-banasha...   \n",
       "1  https://www.zomato.com/bangalore/spice-elephan...   \n",
       "2  https://www.zomato.com/SanchurroBangalore?cont...   \n",
       "3  https://www.zomato.com/bangalore/addhuri-udupi...   \n",
       "4  https://www.zomato.com/bangalore/grand-village...   \n",
       "\n",
       "                                             address                   name  \\\n",
       "0  942, 21st Main Road, 2nd Stage, Banashankari, ...                  Jalsa   \n",
       "1  2nd Floor, 80 Feet Road, Near Big Bazaar, 6th ...         Spice Elephant   \n",
       "2  1112, Next to KIMS Medical College, 17th Cross...        San Churro Cafe   \n",
       "3  1st Floor, Annakuteera, 3rd Stage, Banashankar...  Addhuri Udupi Bhojana   \n",
       "4  10, 3rd Floor, Lakshmi Associates, Gandhi Baza...          Grand Village   \n",
       "\n",
       "  online_order book_table   rate  votes                             phone  \\\n",
       "0          Yes        Yes  4.1/5    775    080 42297555\\r\\n+91 9743772233   \n",
       "1          Yes         No  4.1/5    787                      080 41714161   \n",
       "2          Yes         No  3.8/5    918                    +91 9663487993   \n",
       "3           No         No  3.7/5     88                    +91 9620009302   \n",
       "4           No         No  3.8/5    166  +91 8026612447\\r\\n+91 9901210005   \n",
       "\n",
       "       location            rest_type  \\\n",
       "0  Banashankari        Casual Dining   \n",
       "1  Banashankari        Casual Dining   \n",
       "2  Banashankari  Cafe, Casual Dining   \n",
       "3  Banashankari          Quick Bites   \n",
       "4  Basavanagudi        Casual Dining   \n",
       "\n",
       "                                          dish_liked  \\\n",
       "0  Pasta, Lunch Buffet, Masala Papad, Paneer Laja...   \n",
       "1  Momos, Lunch Buffet, Chocolate Nirvana, Thai G...   \n",
       "2  Churros, Cannelloni, Minestrone Soup, Hot Choc...   \n",
       "3                                        Masala Dosa   \n",
       "4                                Panipuri, Gol Gappe   \n",
       "\n",
       "                         cuisines approx_cost(for two people)  \\\n",
       "0  North Indian, Mughlai, Chinese                         800   \n",
       "1     Chinese, North Indian, Thai                         800   \n",
       "2          Cafe, Mexican, Italian                         800   \n",
       "3      South Indian, North Indian                         300   \n",
       "4        North Indian, Rajasthani                         600   \n",
       "\n",
       "                                        reviews_list menu_item  \\\n",
       "0  [('Rated 4.0', 'RATED\\n  A beautiful place to ...        []   \n",
       "1  [('Rated 4.0', 'RATED\\n  Had been here for din...        []   \n",
       "2  [('Rated 3.0', \"RATED\\n  Ambience is not that ...        []   \n",
       "3  [('Rated 4.0', \"RATED\\n  Great food and proper...        []   \n",
       "4  [('Rated 4.0', 'RATED\\n  Very good restaurant ...        []   \n",
       "\n",
       "  listed_in(type) listed_in(city)  \n",
       "0          Buffet    Banashankari  \n",
       "1          Buffet    Banashankari  \n",
       "2          Buffet    Banashankari  \n",
       "3          Buffet    Banashankari  \n",
       "4          Buffet    Banashankari  "
      ]
     },
     "execution_count": 2,
     "metadata": {},
     "output_type": "execute_result"
    }
   ],
   "source": [
    "df=pd.read_csv(\"zomatoaug3.csv\")\n",
    "df.head()"
   ]
  },
  {
   "cell_type": "code",
   "execution_count": 3,
   "id": "6f3df11d",
   "metadata": {},
   "outputs": [
    {
     "data": {
      "text/plain": [
       "(51717, 17)"
      ]
     },
     "execution_count": 3,
     "metadata": {},
     "output_type": "execute_result"
    }
   ],
   "source": [
    "#Finding the rows and columns\n",
    "df.shape"
   ]
  },
  {
   "cell_type": "code",
   "execution_count": 4,
   "id": "f1bbcfdb",
   "metadata": {},
   "outputs": [
    {
     "data": {
      "text/plain": [
       "Index(['url', 'address', 'name', 'online_order', 'book_table', 'rate', 'votes',\n",
       "       'phone', 'location', 'rest_type', 'dish_liked', 'cuisines',\n",
       "       'approx_cost(for two people)', 'reviews_list', 'menu_item',\n",
       "       'listed_in(type)', 'listed_in(city)'],\n",
       "      dtype='object')"
      ]
     },
     "execution_count": 4,
     "metadata": {},
     "output_type": "execute_result"
    }
   ],
   "source": [
    "#Getting all column names\n",
    "df.columns"
   ]
  },
  {
   "cell_type": "code",
   "execution_count": 5,
   "id": "4d948692",
   "metadata": {},
   "outputs": [
    {
     "data": {
      "text/html": [
       "<div>\n",
       "<style scoped>\n",
       "    .dataframe tbody tr th:only-of-type {\n",
       "        vertical-align: middle;\n",
       "    }\n",
       "\n",
       "    .dataframe tbody tr th {\n",
       "        vertical-align: top;\n",
       "    }\n",
       "\n",
       "    .dataframe thead th {\n",
       "        text-align: right;\n",
       "    }\n",
       "</style>\n",
       "<table border=\"1\" class=\"dataframe\">\n",
       "  <thead>\n",
       "    <tr style=\"text-align: right;\">\n",
       "      <th></th>\n",
       "      <th>name</th>\n",
       "      <th>online_order</th>\n",
       "      <th>book_table</th>\n",
       "      <th>rate</th>\n",
       "      <th>votes</th>\n",
       "      <th>location</th>\n",
       "      <th>rest_type</th>\n",
       "      <th>dish_liked</th>\n",
       "      <th>cuisines</th>\n",
       "      <th>approx_cost(for two people)</th>\n",
       "      <th>listed_in(type)</th>\n",
       "      <th>listed_in(city)</th>\n",
       "    </tr>\n",
       "  </thead>\n",
       "  <tbody>\n",
       "    <tr>\n",
       "      <th>0</th>\n",
       "      <td>Jalsa</td>\n",
       "      <td>Yes</td>\n",
       "      <td>Yes</td>\n",
       "      <td>4.1/5</td>\n",
       "      <td>775</td>\n",
       "      <td>Banashankari</td>\n",
       "      <td>Casual Dining</td>\n",
       "      <td>Pasta, Lunch Buffet, Masala Papad, Paneer Laja...</td>\n",
       "      <td>North Indian, Mughlai, Chinese</td>\n",
       "      <td>800</td>\n",
       "      <td>Buffet</td>\n",
       "      <td>Banashankari</td>\n",
       "    </tr>\n",
       "    <tr>\n",
       "      <th>1</th>\n",
       "      <td>Spice Elephant</td>\n",
       "      <td>Yes</td>\n",
       "      <td>No</td>\n",
       "      <td>4.1/5</td>\n",
       "      <td>787</td>\n",
       "      <td>Banashankari</td>\n",
       "      <td>Casual Dining</td>\n",
       "      <td>Momos, Lunch Buffet, Chocolate Nirvana, Thai G...</td>\n",
       "      <td>Chinese, North Indian, Thai</td>\n",
       "      <td>800</td>\n",
       "      <td>Buffet</td>\n",
       "      <td>Banashankari</td>\n",
       "    </tr>\n",
       "    <tr>\n",
       "      <th>2</th>\n",
       "      <td>San Churro Cafe</td>\n",
       "      <td>Yes</td>\n",
       "      <td>No</td>\n",
       "      <td>3.8/5</td>\n",
       "      <td>918</td>\n",
       "      <td>Banashankari</td>\n",
       "      <td>Cafe, Casual Dining</td>\n",
       "      <td>Churros, Cannelloni, Minestrone Soup, Hot Choc...</td>\n",
       "      <td>Cafe, Mexican, Italian</td>\n",
       "      <td>800</td>\n",
       "      <td>Buffet</td>\n",
       "      <td>Banashankari</td>\n",
       "    </tr>\n",
       "    <tr>\n",
       "      <th>3</th>\n",
       "      <td>Addhuri Udupi Bhojana</td>\n",
       "      <td>No</td>\n",
       "      <td>No</td>\n",
       "      <td>3.7/5</td>\n",
       "      <td>88</td>\n",
       "      <td>Banashankari</td>\n",
       "      <td>Quick Bites</td>\n",
       "      <td>Masala Dosa</td>\n",
       "      <td>South Indian, North Indian</td>\n",
       "      <td>300</td>\n",
       "      <td>Buffet</td>\n",
       "      <td>Banashankari</td>\n",
       "    </tr>\n",
       "    <tr>\n",
       "      <th>4</th>\n",
       "      <td>Grand Village</td>\n",
       "      <td>No</td>\n",
       "      <td>No</td>\n",
       "      <td>3.8/5</td>\n",
       "      <td>166</td>\n",
       "      <td>Basavanagudi</td>\n",
       "      <td>Casual Dining</td>\n",
       "      <td>Panipuri, Gol Gappe</td>\n",
       "      <td>North Indian, Rajasthani</td>\n",
       "      <td>600</td>\n",
       "      <td>Buffet</td>\n",
       "      <td>Banashankari</td>\n",
       "    </tr>\n",
       "  </tbody>\n",
       "</table>\n",
       "</div>"
      ],
      "text/plain": [
       "                    name online_order book_table   rate  votes      location  \\\n",
       "0                  Jalsa          Yes        Yes  4.1/5    775  Banashankari   \n",
       "1         Spice Elephant          Yes         No  4.1/5    787  Banashankari   \n",
       "2        San Churro Cafe          Yes         No  3.8/5    918  Banashankari   \n",
       "3  Addhuri Udupi Bhojana           No         No  3.7/5     88  Banashankari   \n",
       "4          Grand Village           No         No  3.8/5    166  Basavanagudi   \n",
       "\n",
       "             rest_type                                         dish_liked  \\\n",
       "0        Casual Dining  Pasta, Lunch Buffet, Masala Papad, Paneer Laja...   \n",
       "1        Casual Dining  Momos, Lunch Buffet, Chocolate Nirvana, Thai G...   \n",
       "2  Cafe, Casual Dining  Churros, Cannelloni, Minestrone Soup, Hot Choc...   \n",
       "3          Quick Bites                                        Masala Dosa   \n",
       "4        Casual Dining                                Panipuri, Gol Gappe   \n",
       "\n",
       "                         cuisines approx_cost(for two people) listed_in(type)  \\\n",
       "0  North Indian, Mughlai, Chinese                         800          Buffet   \n",
       "1     Chinese, North Indian, Thai                         800          Buffet   \n",
       "2          Cafe, Mexican, Italian                         800          Buffet   \n",
       "3      South Indian, North Indian                         300          Buffet   \n",
       "4        North Indian, Rajasthani                         600          Buffet   \n",
       "\n",
       "  listed_in(city)  \n",
       "0    Banashankari  \n",
       "1    Banashankari  \n",
       "2    Banashankari  \n",
       "3    Banashankari  \n",
       "4    Banashankari  "
      ]
     },
     "execution_count": 5,
     "metadata": {},
     "output_type": "execute_result"
    }
   ],
   "source": [
    "#Dropping/Deleting unwanted columns\n",
    "df=df.drop(['url','address','phone','menu_item','reviews_list'],axis=1)\n",
    "df.head()"
   ]
  },
  {
   "cell_type": "code",
   "execution_count": 6,
   "id": "bc7e729b",
   "metadata": {},
   "outputs": [
    {
     "name": "stdout",
     "output_type": "stream",
     "text": [
      "<class 'pandas.core.frame.DataFrame'>\n",
      "RangeIndex: 51717 entries, 0 to 51716\n",
      "Data columns (total 12 columns):\n",
      " #   Column                       Non-Null Count  Dtype \n",
      "---  ------                       --------------  ----- \n",
      " 0   name                         51717 non-null  object\n",
      " 1   online_order                 51717 non-null  object\n",
      " 2   book_table                   51717 non-null  object\n",
      " 3   rate                         43942 non-null  object\n",
      " 4   votes                        51717 non-null  int64 \n",
      " 5   location                     51696 non-null  object\n",
      " 6   rest_type                    51490 non-null  object\n",
      " 7   dish_liked                   23639 non-null  object\n",
      " 8   cuisines                     51672 non-null  object\n",
      " 9   approx_cost(for two people)  51371 non-null  object\n",
      " 10  listed_in(type)              51717 non-null  object\n",
      " 11  listed_in(city)              51717 non-null  object\n",
      "dtypes: int64(1), object(11)\n",
      "memory usage: 4.7+ MB\n"
     ]
    }
   ],
   "source": [
    "df.info()"
   ]
  },
  {
   "cell_type": "markdown",
   "id": "24c3cbb2",
   "metadata": {},
   "source": [
    "### Dropping Duplicates"
   ]
  },
  {
   "cell_type": "code",
   "execution_count": 39,
   "id": "46d242ed",
   "metadata": {},
   "outputs": [
    {
     "data": {
      "text/plain": [
       "6475"
      ]
     },
     "execution_count": 39,
     "metadata": {},
     "output_type": "execute_result"
    }
   ],
   "source": [
    "#finding duplicate values\n",
    "df.duplicated().sum()"
   ]
  },
  {
   "cell_type": "code",
   "execution_count": 8,
   "id": "3e2b68c8",
   "metadata": {},
   "outputs": [
    {
     "data": {
      "text/plain": [
       "(51609, 12)"
      ]
     },
     "execution_count": 8,
     "metadata": {},
     "output_type": "execute_result"
    }
   ],
   "source": [
    "df.drop_duplicates(inplace=True)\n",
    "df.shape"
   ]
  },
  {
   "cell_type": "code",
   "execution_count": 9,
   "id": "32b99607",
   "metadata": {},
   "outputs": [
    {
     "name": "stdout",
     "output_type": "stream",
     "text": [
      "<class 'pandas.core.frame.DataFrame'>\n",
      "Int64Index: 51609 entries, 0 to 51716\n",
      "Data columns (total 12 columns):\n",
      " #   Column                       Non-Null Count  Dtype \n",
      "---  ------                       --------------  ----- \n",
      " 0   name                         51609 non-null  object\n",
      " 1   online_order                 51609 non-null  object\n",
      " 2   book_table                   51609 non-null  object\n",
      " 3   rate                         43854 non-null  object\n",
      " 4   votes                        51609 non-null  int64 \n",
      " 5   location                     51588 non-null  object\n",
      " 6   rest_type                    51382 non-null  object\n",
      " 7   dish_liked                   23595 non-null  object\n",
      " 8   cuisines                     51564 non-null  object\n",
      " 9   approx_cost(for two people)  51265 non-null  object\n",
      " 10  listed_in(type)              51609 non-null  object\n",
      " 11  listed_in(city)              51609 non-null  object\n",
      "dtypes: int64(1), object(11)\n",
      "memory usage: 5.1+ MB\n"
     ]
    }
   ],
   "source": [
    "df.info()"
   ]
  },
  {
   "cell_type": "markdown",
   "id": "8cc38260",
   "metadata": {},
   "source": [
    "### Cleaning Rate Column"
   ]
  },
  {
   "cell_type": "code",
   "execution_count": 10,
   "id": "2a8f4a08",
   "metadata": {},
   "outputs": [
    {
     "data": {
      "text/plain": [
       "array(['4.1/5', '3.8/5', '3.7/5', '3.6/5', '4.6/5', '4.0/5', '4.2/5',\n",
       "       '3.9/5', '3.1/5', '3.0/5', '3.2/5', '3.3/5', '2.8/5', '4.4/5',\n",
       "       '4.3/5', 'NEW', '2.9/5', '3.5/5', nan, '2.6/5', '3.8 /5', '3.4/5',\n",
       "       '4.5/5', '2.5/5', '2.7/5', '4.7/5', '2.4/5', '2.2/5', '2.3/5',\n",
       "       '3.4 /5', '-', '3.6 /5', '4.8/5', '3.9 /5', '4.2 /5', '4.0 /5',\n",
       "       '4.1 /5', '3.7 /5', '3.1 /5', '2.9 /5', '3.3 /5', '2.8 /5',\n",
       "       '3.5 /5', '2.7 /5', '2.5 /5', '3.2 /5', '2.6 /5', '4.5 /5',\n",
       "       '4.3 /5', '4.4 /5', '4.9/5', '2.1/5', '2.0/5', '1.8/5', '4.6 /5',\n",
       "       '4.9 /5', '3.0 /5', '4.8 /5', '2.3 /5', '4.7 /5', '2.4 /5',\n",
       "       '2.1 /5', '2.2 /5', '2.0 /5', '1.8 /5'], dtype=object)"
      ]
     },
     "execution_count": 10,
     "metadata": {},
     "output_type": "execute_result"
    }
   ],
   "source": [
    "df['rate'].unique()"
   ]
  },
  {
   "cell_type": "code",
   "execution_count": 11,
   "id": "f18af2a3",
   "metadata": {},
   "outputs": [
    {
     "data": {
      "text/plain": [
       "'2.0'"
      ]
     },
     "execution_count": 11,
     "metadata": {},
     "output_type": "execute_result"
    }
   ],
   "source": [
    "value='2.0/5'\n",
    "x=value.split(\"/\")\n",
    "x[0]\n",
    "#example showing how to split the value "
   ]
  },
  {
   "cell_type": "markdown",
   "id": "1396d2d1",
   "metadata": {},
   "source": [
    "#### Removing \"New\",\"-\" and \"/5\" from Rate Column"
   ]
  },
  {
   "cell_type": "code",
   "execution_count": 12,
   "id": "bc3933f3",
   "metadata": {},
   "outputs": [
    {
     "data": {
      "text/plain": [
       "0    4.1\n",
       "1    4.1\n",
       "2    3.8\n",
       "3    3.7\n",
       "4    3.8\n",
       "Name: rate, dtype: float64"
      ]
     },
     "execution_count": 12,
     "metadata": {},
     "output_type": "execute_result"
    }
   ],
   "source": [
    "def handlerate(value):\n",
    "    if(value=='NEW'or value=='-'):\n",
    "        return np.nan\n",
    "    else:\n",
    "        value=str(value).split('/')\n",
    "        value=value[0]\n",
    "        return float(value)\n",
    "    \n",
    "df['rate']=df['rate'].apply(handlerate)\n",
    "df['rate'].head()"
   ]
  },
  {
   "cell_type": "code",
   "execution_count": 13,
   "id": "b5a87d68",
   "metadata": {},
   "outputs": [
    {
     "name": "stdout",
     "output_type": "stream",
     "text": [
      "<class 'pandas.core.frame.DataFrame'>\n",
      "Int64Index: 51609 entries, 0 to 51716\n",
      "Data columns (total 12 columns):\n",
      " #   Column                       Non-Null Count  Dtype  \n",
      "---  ------                       --------------  -----  \n",
      " 0   name                         51609 non-null  object \n",
      " 1   online_order                 51609 non-null  object \n",
      " 2   book_table                   51609 non-null  object \n",
      " 3   rate                         41590 non-null  float64\n",
      " 4   votes                        51609 non-null  int64  \n",
      " 5   location                     51588 non-null  object \n",
      " 6   rest_type                    51382 non-null  object \n",
      " 7   dish_liked                   23595 non-null  object \n",
      " 8   cuisines                     51564 non-null  object \n",
      " 9   approx_cost(for two people)  51265 non-null  object \n",
      " 10  listed_in(type)              51609 non-null  object \n",
      " 11  listed_in(city)              51609 non-null  object \n",
      "dtypes: float64(1), int64(1), object(10)\n",
      "memory usage: 5.1+ MB\n"
     ]
    }
   ],
   "source": [
    "df.info()\n",
    "#to find the data type of the updated rate column"
   ]
  },
  {
   "cell_type": "markdown",
   "id": "9770004c",
   "metadata": {},
   "source": [
    "#### Finding Null Value"
   ]
  },
  {
   "cell_type": "code",
   "execution_count": 14,
   "id": "154a20be",
   "metadata": {},
   "outputs": [
    {
     "data": {
      "text/plain": [
       "name                               0\n",
       "online_order                       0\n",
       "book_table                         0\n",
       "rate                           10019\n",
       "votes                              0\n",
       "location                          21\n",
       "rest_type                        227\n",
       "dish_liked                     28014\n",
       "cuisines                          45\n",
       "approx_cost(for two people)      344\n",
       "listed_in(type)                    0\n",
       "listed_in(city)                    0\n",
       "dtype: int64"
      ]
     },
     "execution_count": 14,
     "metadata": {},
     "output_type": "execute_result"
    }
   ],
   "source": [
    "df.isna().sum()"
   ]
  },
  {
   "cell_type": "code",
   "execution_count": 15,
   "id": "62d132d3",
   "metadata": {},
   "outputs": [
    {
     "data": {
      "text/plain": [
       "name                            0.000000\n",
       "online_order                    0.000000\n",
       "book_table                      0.000000\n",
       "rate                           19.413281\n",
       "votes                           0.000000\n",
       "location                        0.040691\n",
       "rest_type                       0.439846\n",
       "dish_liked                     54.281230\n",
       "cuisines                        0.087194\n",
       "approx_cost(for two people)     0.666550\n",
       "listed_in(type)                 0.000000\n",
       "listed_in(city)                 0.000000\n",
       "dtype: float64"
      ]
     },
     "execution_count": 15,
     "metadata": {},
     "output_type": "execute_result"
    }
   ],
   "source": [
    "(df.isna().sum()/df.shape[0])*100"
   ]
  },
  {
   "cell_type": "markdown",
   "id": "ed137169",
   "metadata": {},
   "source": [
    "# Filling Null Values in Rate coulmn with Mean"
   ]
  },
  {
   "cell_type": "code",
   "execution_count": 16,
   "id": "71041999",
   "metadata": {},
   "outputs": [],
   "source": [
    "df['rate'].fillna(df['rate'].mean(),inplace=True)"
   ]
  },
  {
   "cell_type": "code",
   "execution_count": 40,
   "id": "9052bf27",
   "metadata": {},
   "outputs": [
    {
     "data": {
      "text/plain": [
       "0"
      ]
     },
     "execution_count": 40,
     "metadata": {},
     "output_type": "execute_result"
    }
   ],
   "source": [
    "df['rate'].isnull().sum()"
   ]
  },
  {
   "cell_type": "markdown",
   "id": "f9f9141c",
   "metadata": {},
   "source": [
    "# Dropping Null Values"
   ]
  },
  {
   "cell_type": "code",
   "execution_count": 18,
   "id": "50869950",
   "metadata": {},
   "outputs": [],
   "source": [
    "df.dropna(inplace=True)\n"
   ]
  },
  {
   "cell_type": "code",
   "execution_count": 19,
   "id": "5c851901",
   "metadata": {},
   "outputs": [
    {
     "data": {
      "text/html": [
       "<div>\n",
       "<style scoped>\n",
       "    .dataframe tbody tr th:only-of-type {\n",
       "        vertical-align: middle;\n",
       "    }\n",
       "\n",
       "    .dataframe tbody tr th {\n",
       "        vertical-align: top;\n",
       "    }\n",
       "\n",
       "    .dataframe thead th {\n",
       "        text-align: right;\n",
       "    }\n",
       "</style>\n",
       "<table border=\"1\" class=\"dataframe\">\n",
       "  <thead>\n",
       "    <tr style=\"text-align: right;\">\n",
       "      <th></th>\n",
       "      <th>name</th>\n",
       "      <th>online_order</th>\n",
       "      <th>book_table</th>\n",
       "      <th>rate</th>\n",
       "      <th>votes</th>\n",
       "      <th>location</th>\n",
       "      <th>rest_type</th>\n",
       "      <th>dish_liked</th>\n",
       "      <th>cuisines</th>\n",
       "      <th>approx_cost(for two people)</th>\n",
       "      <th>listed_in(type)</th>\n",
       "      <th>listed_in(city)</th>\n",
       "    </tr>\n",
       "  </thead>\n",
       "  <tbody>\n",
       "    <tr>\n",
       "      <th>0</th>\n",
       "      <td>Jalsa</td>\n",
       "      <td>Yes</td>\n",
       "      <td>Yes</td>\n",
       "      <td>4.1</td>\n",
       "      <td>775</td>\n",
       "      <td>Banashankari</td>\n",
       "      <td>Casual Dining</td>\n",
       "      <td>Pasta, Lunch Buffet, Masala Papad, Paneer Laja...</td>\n",
       "      <td>North Indian, Mughlai, Chinese</td>\n",
       "      <td>800</td>\n",
       "      <td>Buffet</td>\n",
       "      <td>Banashankari</td>\n",
       "    </tr>\n",
       "    <tr>\n",
       "      <th>1</th>\n",
       "      <td>Spice Elephant</td>\n",
       "      <td>Yes</td>\n",
       "      <td>No</td>\n",
       "      <td>4.1</td>\n",
       "      <td>787</td>\n",
       "      <td>Banashankari</td>\n",
       "      <td>Casual Dining</td>\n",
       "      <td>Momos, Lunch Buffet, Chocolate Nirvana, Thai G...</td>\n",
       "      <td>Chinese, North Indian, Thai</td>\n",
       "      <td>800</td>\n",
       "      <td>Buffet</td>\n",
       "      <td>Banashankari</td>\n",
       "    </tr>\n",
       "    <tr>\n",
       "      <th>2</th>\n",
       "      <td>San Churro Cafe</td>\n",
       "      <td>Yes</td>\n",
       "      <td>No</td>\n",
       "      <td>3.8</td>\n",
       "      <td>918</td>\n",
       "      <td>Banashankari</td>\n",
       "      <td>Cafe, Casual Dining</td>\n",
       "      <td>Churros, Cannelloni, Minestrone Soup, Hot Choc...</td>\n",
       "      <td>Cafe, Mexican, Italian</td>\n",
       "      <td>800</td>\n",
       "      <td>Buffet</td>\n",
       "      <td>Banashankari</td>\n",
       "    </tr>\n",
       "    <tr>\n",
       "      <th>3</th>\n",
       "      <td>Addhuri Udupi Bhojana</td>\n",
       "      <td>No</td>\n",
       "      <td>No</td>\n",
       "      <td>3.7</td>\n",
       "      <td>88</td>\n",
       "      <td>Banashankari</td>\n",
       "      <td>Quick Bites</td>\n",
       "      <td>Masala Dosa</td>\n",
       "      <td>South Indian, North Indian</td>\n",
       "      <td>300</td>\n",
       "      <td>Buffet</td>\n",
       "      <td>Banashankari</td>\n",
       "    </tr>\n",
       "    <tr>\n",
       "      <th>4</th>\n",
       "      <td>Grand Village</td>\n",
       "      <td>No</td>\n",
       "      <td>No</td>\n",
       "      <td>3.8</td>\n",
       "      <td>166</td>\n",
       "      <td>Basavanagudi</td>\n",
       "      <td>Casual Dining</td>\n",
       "      <td>Panipuri, Gol Gappe</td>\n",
       "      <td>North Indian, Rajasthani</td>\n",
       "      <td>600</td>\n",
       "      <td>Buffet</td>\n",
       "      <td>Banashankari</td>\n",
       "    </tr>\n",
       "  </tbody>\n",
       "</table>\n",
       "</div>"
      ],
      "text/plain": [
       "                    name online_order book_table  rate  votes      location  \\\n",
       "0                  Jalsa          Yes        Yes   4.1    775  Banashankari   \n",
       "1         Spice Elephant          Yes         No   4.1    787  Banashankari   \n",
       "2        San Churro Cafe          Yes         No   3.8    918  Banashankari   \n",
       "3  Addhuri Udupi Bhojana           No         No   3.7     88  Banashankari   \n",
       "4          Grand Village           No         No   3.8    166  Basavanagudi   \n",
       "\n",
       "             rest_type                                         dish_liked  \\\n",
       "0        Casual Dining  Pasta, Lunch Buffet, Masala Papad, Paneer Laja...   \n",
       "1        Casual Dining  Momos, Lunch Buffet, Chocolate Nirvana, Thai G...   \n",
       "2  Cafe, Casual Dining  Churros, Cannelloni, Minestrone Soup, Hot Choc...   \n",
       "3          Quick Bites                                        Masala Dosa   \n",
       "4        Casual Dining                                Panipuri, Gol Gappe   \n",
       "\n",
       "                         cuisines approx_cost(for two people) listed_in(type)  \\\n",
       "0  North Indian, Mughlai, Chinese                         800          Buffet   \n",
       "1     Chinese, North Indian, Thai                         800          Buffet   \n",
       "2          Cafe, Mexican, Italian                         800          Buffet   \n",
       "3      South Indian, North Indian                         300          Buffet   \n",
       "4        North Indian, Rajasthani                         600          Buffet   \n",
       "\n",
       "  listed_in(city)  \n",
       "0    Banashankari  \n",
       "1    Banashankari  \n",
       "2    Banashankari  \n",
       "3    Banashankari  \n",
       "4    Banashankari  "
      ]
     },
     "execution_count": 19,
     "metadata": {},
     "output_type": "execute_result"
    }
   ],
   "source": [
    "df.head()"
   ]
  },
  {
   "cell_type": "code",
   "execution_count": 20,
   "id": "5bb8b1e1",
   "metadata": {},
   "outputs": [
    {
     "data": {
      "text/html": [
       "<div>\n",
       "<style scoped>\n",
       "    .dataframe tbody tr th:only-of-type {\n",
       "        vertical-align: middle;\n",
       "    }\n",
       "\n",
       "    .dataframe tbody tr th {\n",
       "        vertical-align: top;\n",
       "    }\n",
       "\n",
       "    .dataframe thead th {\n",
       "        text-align: right;\n",
       "    }\n",
       "</style>\n",
       "<table border=\"1\" class=\"dataframe\">\n",
       "  <thead>\n",
       "    <tr style=\"text-align: right;\">\n",
       "      <th></th>\n",
       "      <th>name</th>\n",
       "      <th>online_order</th>\n",
       "      <th>book_table</th>\n",
       "      <th>rate</th>\n",
       "      <th>votes</th>\n",
       "      <th>location</th>\n",
       "      <th>rest_type</th>\n",
       "      <th>dish_liked</th>\n",
       "      <th>cuisines</th>\n",
       "      <th>Cost2plates</th>\n",
       "      <th>Type</th>\n",
       "      <th>listed_in(city)</th>\n",
       "    </tr>\n",
       "  </thead>\n",
       "  <tbody>\n",
       "    <tr>\n",
       "      <th>0</th>\n",
       "      <td>Jalsa</td>\n",
       "      <td>Yes</td>\n",
       "      <td>Yes</td>\n",
       "      <td>4.1</td>\n",
       "      <td>775</td>\n",
       "      <td>Banashankari</td>\n",
       "      <td>Casual Dining</td>\n",
       "      <td>Pasta, Lunch Buffet, Masala Papad, Paneer Laja...</td>\n",
       "      <td>North Indian, Mughlai, Chinese</td>\n",
       "      <td>800</td>\n",
       "      <td>Buffet</td>\n",
       "      <td>Banashankari</td>\n",
       "    </tr>\n",
       "    <tr>\n",
       "      <th>1</th>\n",
       "      <td>Spice Elephant</td>\n",
       "      <td>Yes</td>\n",
       "      <td>No</td>\n",
       "      <td>4.1</td>\n",
       "      <td>787</td>\n",
       "      <td>Banashankari</td>\n",
       "      <td>Casual Dining</td>\n",
       "      <td>Momos, Lunch Buffet, Chocolate Nirvana, Thai G...</td>\n",
       "      <td>Chinese, North Indian, Thai</td>\n",
       "      <td>800</td>\n",
       "      <td>Buffet</td>\n",
       "      <td>Banashankari</td>\n",
       "    </tr>\n",
       "    <tr>\n",
       "      <th>2</th>\n",
       "      <td>San Churro Cafe</td>\n",
       "      <td>Yes</td>\n",
       "      <td>No</td>\n",
       "      <td>3.8</td>\n",
       "      <td>918</td>\n",
       "      <td>Banashankari</td>\n",
       "      <td>Cafe, Casual Dining</td>\n",
       "      <td>Churros, Cannelloni, Minestrone Soup, Hot Choc...</td>\n",
       "      <td>Cafe, Mexican, Italian</td>\n",
       "      <td>800</td>\n",
       "      <td>Buffet</td>\n",
       "      <td>Banashankari</td>\n",
       "    </tr>\n",
       "    <tr>\n",
       "      <th>3</th>\n",
       "      <td>Addhuri Udupi Bhojana</td>\n",
       "      <td>No</td>\n",
       "      <td>No</td>\n",
       "      <td>3.7</td>\n",
       "      <td>88</td>\n",
       "      <td>Banashankari</td>\n",
       "      <td>Quick Bites</td>\n",
       "      <td>Masala Dosa</td>\n",
       "      <td>South Indian, North Indian</td>\n",
       "      <td>300</td>\n",
       "      <td>Buffet</td>\n",
       "      <td>Banashankari</td>\n",
       "    </tr>\n",
       "    <tr>\n",
       "      <th>4</th>\n",
       "      <td>Grand Village</td>\n",
       "      <td>No</td>\n",
       "      <td>No</td>\n",
       "      <td>3.8</td>\n",
       "      <td>166</td>\n",
       "      <td>Basavanagudi</td>\n",
       "      <td>Casual Dining</td>\n",
       "      <td>Panipuri, Gol Gappe</td>\n",
       "      <td>North Indian, Rajasthani</td>\n",
       "      <td>600</td>\n",
       "      <td>Buffet</td>\n",
       "      <td>Banashankari</td>\n",
       "    </tr>\n",
       "  </tbody>\n",
       "</table>\n",
       "</div>"
      ],
      "text/plain": [
       "                    name online_order book_table  rate  votes      location  \\\n",
       "0                  Jalsa          Yes        Yes   4.1    775  Banashankari   \n",
       "1         Spice Elephant          Yes         No   4.1    787  Banashankari   \n",
       "2        San Churro Cafe          Yes         No   3.8    918  Banashankari   \n",
       "3  Addhuri Udupi Bhojana           No         No   3.7     88  Banashankari   \n",
       "4          Grand Village           No         No   3.8    166  Basavanagudi   \n",
       "\n",
       "             rest_type                                         dish_liked  \\\n",
       "0        Casual Dining  Pasta, Lunch Buffet, Masala Papad, Paneer Laja...   \n",
       "1        Casual Dining  Momos, Lunch Buffet, Chocolate Nirvana, Thai G...   \n",
       "2  Cafe, Casual Dining  Churros, Cannelloni, Minestrone Soup, Hot Choc...   \n",
       "3          Quick Bites                                        Masala Dosa   \n",
       "4        Casual Dining                                Panipuri, Gol Gappe   \n",
       "\n",
       "                         cuisines Cost2plates    Type listed_in(city)  \n",
       "0  North Indian, Mughlai, Chinese         800  Buffet    Banashankari  \n",
       "1     Chinese, North Indian, Thai         800  Buffet    Banashankari  \n",
       "2          Cafe, Mexican, Italian         800  Buffet    Banashankari  \n",
       "3      South Indian, North Indian         300  Buffet    Banashankari  \n",
       "4        North Indian, Rajasthani         600  Buffet    Banashankari  "
      ]
     },
     "execution_count": 20,
     "metadata": {},
     "output_type": "execute_result"
    }
   ],
   "source": [
    "df.rename(columns={'approx_cost(for two people)':'Cost2plates','listed_in(type)':'Type'},inplace=True)\n",
    "df.head()"
   ]
  },
  {
   "cell_type": "code",
   "execution_count": 21,
   "id": "d8e03e6a",
   "metadata": {},
   "outputs": [
    {
     "data": {
      "text/plain": [
       "array(['Banashankari', 'Basavanagudi', 'Jayanagar', 'Kumaraswamy Layout',\n",
       "       'Rajarajeshwari Nagar', 'Mysore Road', 'Uttarahalli',\n",
       "       'South Bangalore', 'Vijay Nagar', 'Bannerghatta Road', 'JP Nagar',\n",
       "       'BTM', 'Wilson Garden', 'Koramangala 5th Block', 'Shanti Nagar',\n",
       "       'Richmond Road', 'City Market', 'Bellandur', 'Sarjapur Road',\n",
       "       'Marathahalli', 'HSR', 'Old Airport Road', 'Indiranagar',\n",
       "       'Koramangala 1st Block', 'East Bangalore', 'MG Road',\n",
       "       'Brigade Road', 'Lavelle Road', 'Church Street', 'Ulsoor',\n",
       "       'Residency Road', 'Shivajinagar', 'Infantry Road',\n",
       "       'St. Marks Road', 'Cunningham Road', 'Race Course Road', 'Domlur',\n",
       "       'Koramangala 8th Block', 'Frazer Town', 'Ejipura', 'Vasanth Nagar',\n",
       "       'Jeevan Bhima Nagar', 'Old Madras Road', 'Commercial Street',\n",
       "       'Koramangala 6th Block', 'Majestic', 'Langford Town',\n",
       "       'Koramangala 7th Block', 'Brookefield', 'Whitefield',\n",
       "       'ITPL Main Road, Whitefield', 'Varthur Main Road, Whitefield',\n",
       "       'Koramangala 2nd Block', 'Koramangala 3rd Block',\n",
       "       'Koramangala 4th Block', 'Koramangala', 'Bommanahalli',\n",
       "       'Hosur Road', 'Seshadripuram', 'Electronic City', 'Banaswadi',\n",
       "       'North Bangalore', 'RT Nagar', 'Kammanahalli', 'Hennur',\n",
       "       'HBR Layout', 'Kalyan Nagar', 'Thippasandra', 'CV Raman Nagar',\n",
       "       'Kaggadasapura', 'Kanakapura Road', 'Nagawara', 'Rammurthy Nagar',\n",
       "       'Sankey Road', 'Central Bangalore', 'Malleshwaram',\n",
       "       'Sadashiv Nagar', 'Basaveshwara Nagar', 'Rajajinagar',\n",
       "       'New BEL Road', 'West Bangalore', 'Yeshwantpur', 'Sanjay Nagar',\n",
       "       'Sahakara Nagar', 'Jalahalli', 'Yelahanka', 'Magadi Road',\n",
       "       'KR Puram'], dtype=object)"
      ]
     },
     "execution_count": 21,
     "metadata": {},
     "output_type": "execute_result"
    }
   ],
   "source": [
    "df['location'].unique()"
   ]
  },
  {
   "cell_type": "code",
   "execution_count": 22,
   "id": "f33e1b52",
   "metadata": {},
   "outputs": [
    {
     "data": {
      "text/plain": [
       "array(['Banashankari', 'Bannerghatta Road', 'Basavanagudi', 'Bellandur',\n",
       "       'Brigade Road', 'Brookefield', 'BTM', 'Church Street',\n",
       "       'Electronic City', 'Frazer Town', 'HSR', 'Indiranagar',\n",
       "       'Jayanagar', 'JP Nagar', 'Kalyan Nagar', 'Kammanahalli',\n",
       "       'Koramangala 4th Block', 'Koramangala 5th Block',\n",
       "       'Koramangala 6th Block', 'Koramangala 7th Block', 'Lavelle Road',\n",
       "       'Malleshwaram', 'Marathahalli', 'MG Road', 'New BEL Road',\n",
       "       'Old Airport Road', 'Rajajinagar', 'Residency Road',\n",
       "       'Sarjapur Road', 'Whitefield'], dtype=object)"
      ]
     },
     "execution_count": 22,
     "metadata": {},
     "output_type": "execute_result"
    }
   ],
   "source": [
    "df['listed_in(city)'].unique()"
   ]
  },
  {
   "cell_type": "markdown",
   "id": "4f1a34c0",
   "metadata": {},
   "source": [
    "# listed in (city) and location, both are there lets keep only one "
   ]
  },
  {
   "cell_type": "code",
   "execution_count": 23,
   "id": "046842a2",
   "metadata": {},
   "outputs": [],
   "source": [
    "df=df.drop(['listed_in(city)'],axis=1)"
   ]
  },
  {
   "cell_type": "code",
   "execution_count": 24,
   "id": "bbe912a6",
   "metadata": {},
   "outputs": [
    {
     "data": {
      "text/plain": [
       "array(['800', '300', '600', '700', '550', '500', '450', '650', '400',\n",
       "       '750', '200', '850', '1,200', '150', '350', '250', '1,500',\n",
       "       '1,300', '1,000', '100', '900', '1,100', '1,600', '950', '230',\n",
       "       '1,700', '1,400', '1,350', '2,200', '2,000', '1,800', '1,900',\n",
       "       '180', '330', '2,500', '2,100', '3,000', '2,800', '3,400', '40',\n",
       "       '1,250', '3,500', '4,000', '2,400', '1,450', '3,200', '6,000',\n",
       "       '1,050', '4,100', '2,300', '120', '2,600', '5,000', '3,700',\n",
       "       '1,650', '2,700', '4,500'], dtype=object)"
      ]
     },
     "execution_count": 24,
     "metadata": {},
     "output_type": "execute_result"
    }
   ],
   "source": [
    "df['Cost2plates'].unique()"
   ]
  },
  {
   "cell_type": "markdown",
   "id": "6743044c",
   "metadata": {},
   "source": [
    "# Removing comma( ',') from Cost2Plates Column"
   ]
  },
  {
   "cell_type": "code",
   "execution_count": 25,
   "id": "42e36639",
   "metadata": {},
   "outputs": [
    {
     "data": {
      "text/plain": [
       "array([ 800.,  300.,  600.,  700.,  550.,  500.,  450.,  650.,  400.,\n",
       "        750.,  200.,  850., 1200.,  150.,  350.,  250., 1500., 1300.,\n",
       "       1000.,  100.,  900., 1100., 1600.,  950.,  230., 1700., 1400.,\n",
       "       1350., 2200., 2000., 1800., 1900.,  180.,  330., 2500., 2100.,\n",
       "       3000., 2800., 3400.,   40., 1250., 3500., 4000., 2400., 1450.,\n",
       "       3200., 6000., 1050., 4100., 2300.,  120., 2600., 5000., 3700.,\n",
       "       1650., 2700., 4500.])"
      ]
     },
     "execution_count": 25,
     "metadata": {},
     "output_type": "execute_result"
    }
   ],
   "source": [
    "def handlecomma(value):\n",
    "    value=str(value)\n",
    "    if ',' in value:\n",
    "        value=value.replace(',','')\n",
    "        return float(value)\n",
    "    else:\n",
    "        return float(value)\n",
    "df['Cost2plates']=df['Cost2plates'].apply(handlecomma)\n",
    "df['Cost2plates'].unique()"
   ]
  },
  {
   "cell_type": "code",
   "execution_count": 26,
   "id": "35616deb",
   "metadata": {},
   "outputs": [
    {
     "name": "stdout",
     "output_type": "stream",
     "text": [
      "<class 'pandas.core.frame.DataFrame'>\n",
      "Int64Index: 23393 entries, 0 to 51715\n",
      "Data columns (total 11 columns):\n",
      " #   Column        Non-Null Count  Dtype  \n",
      "---  ------        --------------  -----  \n",
      " 0   name          23393 non-null  object \n",
      " 1   online_order  23393 non-null  object \n",
      " 2   book_table    23393 non-null  object \n",
      " 3   rate          23393 non-null  float64\n",
      " 4   votes         23393 non-null  int64  \n",
      " 5   location      23393 non-null  object \n",
      " 6   rest_type     23393 non-null  object \n",
      " 7   dish_liked    23393 non-null  object \n",
      " 8   cuisines      23393 non-null  object \n",
      " 9   Cost2plates   23393 non-null  float64\n",
      " 10  Type          23393 non-null  object \n",
      "dtypes: float64(2), int64(1), object(8)\n",
      "memory usage: 2.1+ MB\n"
     ]
    }
   ],
   "source": [
    "df.info()\n",
    "#No need to get info in all the analysis \n",
    "# this is just for understanding"
   ]
  },
  {
   "cell_type": "code",
   "execution_count": 27,
   "id": "6622437c",
   "metadata": {},
   "outputs": [
    {
     "data": {
      "text/html": [
       "<div>\n",
       "<style scoped>\n",
       "    .dataframe tbody tr th:only-of-type {\n",
       "        vertical-align: middle;\n",
       "    }\n",
       "\n",
       "    .dataframe tbody tr th {\n",
       "        vertical-align: top;\n",
       "    }\n",
       "\n",
       "    .dataframe thead th {\n",
       "        text-align: right;\n",
       "    }\n",
       "</style>\n",
       "<table border=\"1\" class=\"dataframe\">\n",
       "  <thead>\n",
       "    <tr style=\"text-align: right;\">\n",
       "      <th></th>\n",
       "      <th>name</th>\n",
       "      <th>online_order</th>\n",
       "      <th>book_table</th>\n",
       "      <th>rate</th>\n",
       "      <th>votes</th>\n",
       "      <th>location</th>\n",
       "      <th>rest_type</th>\n",
       "      <th>dish_liked</th>\n",
       "      <th>cuisines</th>\n",
       "      <th>Cost2plates</th>\n",
       "      <th>Type</th>\n",
       "    </tr>\n",
       "  </thead>\n",
       "  <tbody>\n",
       "    <tr>\n",
       "      <th>0</th>\n",
       "      <td>Jalsa</td>\n",
       "      <td>Yes</td>\n",
       "      <td>Yes</td>\n",
       "      <td>4.1</td>\n",
       "      <td>775</td>\n",
       "      <td>Banashankari</td>\n",
       "      <td>Casual Dining</td>\n",
       "      <td>Pasta, Lunch Buffet, Masala Papad, Paneer Laja...</td>\n",
       "      <td>North Indian, Mughlai, Chinese</td>\n",
       "      <td>800.0</td>\n",
       "      <td>Buffet</td>\n",
       "    </tr>\n",
       "    <tr>\n",
       "      <th>1</th>\n",
       "      <td>Spice Elephant</td>\n",
       "      <td>Yes</td>\n",
       "      <td>No</td>\n",
       "      <td>4.1</td>\n",
       "      <td>787</td>\n",
       "      <td>Banashankari</td>\n",
       "      <td>Casual Dining</td>\n",
       "      <td>Momos, Lunch Buffet, Chocolate Nirvana, Thai G...</td>\n",
       "      <td>Chinese, North Indian, Thai</td>\n",
       "      <td>800.0</td>\n",
       "      <td>Buffet</td>\n",
       "    </tr>\n",
       "    <tr>\n",
       "      <th>2</th>\n",
       "      <td>San Churro Cafe</td>\n",
       "      <td>Yes</td>\n",
       "      <td>No</td>\n",
       "      <td>3.8</td>\n",
       "      <td>918</td>\n",
       "      <td>Banashankari</td>\n",
       "      <td>Cafe, Casual Dining</td>\n",
       "      <td>Churros, Cannelloni, Minestrone Soup, Hot Choc...</td>\n",
       "      <td>Cafe, Mexican, Italian</td>\n",
       "      <td>800.0</td>\n",
       "      <td>Buffet</td>\n",
       "    </tr>\n",
       "    <tr>\n",
       "      <th>3</th>\n",
       "      <td>Addhuri Udupi Bhojana</td>\n",
       "      <td>No</td>\n",
       "      <td>No</td>\n",
       "      <td>3.7</td>\n",
       "      <td>88</td>\n",
       "      <td>Banashankari</td>\n",
       "      <td>Quick Bites</td>\n",
       "      <td>Masala Dosa</td>\n",
       "      <td>South Indian, North Indian</td>\n",
       "      <td>300.0</td>\n",
       "      <td>Buffet</td>\n",
       "    </tr>\n",
       "    <tr>\n",
       "      <th>4</th>\n",
       "      <td>Grand Village</td>\n",
       "      <td>No</td>\n",
       "      <td>No</td>\n",
       "      <td>3.8</td>\n",
       "      <td>166</td>\n",
       "      <td>Basavanagudi</td>\n",
       "      <td>Casual Dining</td>\n",
       "      <td>Panipuri, Gol Gappe</td>\n",
       "      <td>North Indian, Rajasthani</td>\n",
       "      <td>600.0</td>\n",
       "      <td>Buffet</td>\n",
       "    </tr>\n",
       "  </tbody>\n",
       "</table>\n",
       "</div>"
      ],
      "text/plain": [
       "                    name online_order book_table  rate  votes      location  \\\n",
       "0                  Jalsa          Yes        Yes   4.1    775  Banashankari   \n",
       "1         Spice Elephant          Yes         No   4.1    787  Banashankari   \n",
       "2        San Churro Cafe          Yes         No   3.8    918  Banashankari   \n",
       "3  Addhuri Udupi Bhojana           No         No   3.7     88  Banashankari   \n",
       "4          Grand Village           No         No   3.8    166  Basavanagudi   \n",
       "\n",
       "             rest_type                                         dish_liked  \\\n",
       "0        Casual Dining  Pasta, Lunch Buffet, Masala Papad, Paneer Laja...   \n",
       "1        Casual Dining  Momos, Lunch Buffet, Chocolate Nirvana, Thai G...   \n",
       "2  Cafe, Casual Dining  Churros, Cannelloni, Minestrone Soup, Hot Choc...   \n",
       "3          Quick Bites                                        Masala Dosa   \n",
       "4        Casual Dining                                Panipuri, Gol Gappe   \n",
       "\n",
       "                         cuisines  Cost2plates    Type  \n",
       "0  North Indian, Mughlai, Chinese        800.0  Buffet  \n",
       "1     Chinese, North Indian, Thai        800.0  Buffet  \n",
       "2          Cafe, Mexican, Italian        800.0  Buffet  \n",
       "3      South Indian, North Indian        300.0  Buffet  \n",
       "4        North Indian, Rajasthani        600.0  Buffet  "
      ]
     },
     "execution_count": 27,
     "metadata": {},
     "output_type": "execute_result"
    }
   ],
   "source": [
    "df.head()"
   ]
  },
  {
   "cell_type": "code",
   "execution_count": 28,
   "id": "cc75e525",
   "metadata": {},
   "outputs": [
    {
     "name": "stdout",
     "output_type": "stream",
     "text": [
      "<class 'pandas.core.frame.DataFrame'>\n",
      "Int64Index: 23393 entries, 0 to 51715\n",
      "Data columns (total 11 columns):\n",
      " #   Column        Non-Null Count  Dtype  \n",
      "---  ------        --------------  -----  \n",
      " 0   name          23393 non-null  object \n",
      " 1   online_order  23393 non-null  object \n",
      " 2   book_table    23393 non-null  object \n",
      " 3   rate          23393 non-null  float64\n",
      " 4   votes         23393 non-null  int64  \n",
      " 5   location      23393 non-null  object \n",
      " 6   rest_type     23393 non-null  object \n",
      " 7   dish_liked    23393 non-null  object \n",
      " 8   cuisines      23393 non-null  object \n",
      " 9   Cost2plates   23393 non-null  float64\n",
      " 10  Type          23393 non-null  object \n",
      "dtypes: float64(2), int64(1), object(8)\n",
      "memory usage: 2.1+ MB\n"
     ]
    }
   ],
   "source": [
    "df.info()"
   ]
  },
  {
   "cell_type": "markdown",
   "id": "83cb0d6a",
   "metadata": {},
   "source": [
    "# cleaning rest type column"
   ]
  },
  {
   "cell_type": "code",
   "execution_count": 29,
   "id": "98cba3fa",
   "metadata": {},
   "outputs": [
    {
     "data": {
      "text/plain": [
       "Casual Dining                7387\n",
       "Quick Bites                  5267\n",
       "Cafe                         2380\n",
       "Dessert Parlor               1083\n",
       "Casual Dining, Bar            986\n",
       "                             ... \n",
       "Fine Dining, Microbrewery       5\n",
       "Club, Casual Dining             4\n",
       "Dessert Parlor, Kiosk           2\n",
       "Dhaba                           1\n",
       "Food Court, Casual Dining       1\n",
       "Name: rest_type, Length: 73, dtype: int64"
      ]
     },
     "execution_count": 29,
     "metadata": {},
     "output_type": "execute_result"
    }
   ],
   "source": [
    "rest_types=df['rest_type'].value_counts(ascending =False)\n",
    "rest_types"
   ]
  },
  {
   "cell_type": "code",
   "execution_count": 30,
   "id": "9033c68f",
   "metadata": {},
   "outputs": [
    {
     "data": {
      "text/plain": [
       "Casual Dining, Bar           986\n",
       "Delivery                     707\n",
       "Bar                          358\n",
       "Bar, Casual Dining           347\n",
       "Takeaway, Delivery           343\n",
       "                            ... \n",
       "Fine Dining, Microbrewery      5\n",
       "Club, Casual Dining            4\n",
       "Dessert Parlor, Kiosk          2\n",
       "Dhaba                          1\n",
       "Food Court, Casual Dining      1\n",
       "Name: rest_type, Length: 69, dtype: int64"
      ]
     },
     "execution_count": 30,
     "metadata": {},
     "output_type": "execute_result"
    }
   ],
   "source": [
    "rest_types_lessthan1000=rest_types[rest_types<1000]\n",
    "rest_types_lessthan1000"
   ]
  },
  {
   "cell_type": "code",
   "execution_count": null,
   "id": "26d2754e",
   "metadata": {},
   "outputs": [],
   "source": []
  },
  {
   "cell_type": "markdown",
   "id": "989a308d",
   "metadata": {},
   "source": [
    "# making rest types less than 1000 in frequency as others\n",
    "# Other vice 9000 record distinct values are comeing "
   ]
  },
  {
   "cell_type": "code",
   "execution_count": 31,
   "id": "b3fef9ab",
   "metadata": {},
   "outputs": [
    {
     "data": {
      "text/plain": [
       "Index(['name', 'online_order', 'book_table', 'rate', 'votes', 'location',\n",
       "       'rest_type', 'dish_liked', 'cuisines', 'Cost2plates', 'Type'],\n",
       "      dtype='object')"
      ]
     },
     "execution_count": 31,
     "metadata": {},
     "output_type": "execute_result"
    }
   ],
   "source": [
    "df.columns"
   ]
  },
  {
   "cell_type": "code",
   "execution_count": 32,
   "id": "6acefd7e",
   "metadata": {},
   "outputs": [
    {
     "data": {
      "text/plain": [
       "Casual Dining     7387\n",
       "others            7276\n",
       "Quick Bites       5267\n",
       "Cafe              2380\n",
       "Dessert Parlor    1083\n",
       "Name: rest_type, dtype: int64"
      ]
     },
     "execution_count": 32,
     "metadata": {},
     "output_type": "execute_result"
    }
   ],
   "source": [
    "# function \n",
    "def handle_rest_type(value):\n",
    "    if(value in rest_types_lessthan1000):\n",
    "        return 'others'\n",
    "    else:\n",
    "        return value\n",
    "df['rest_type']=df['rest_type'].apply(handle_rest_type)\n",
    "df['rest_type'].value_counts()"
   ]
  },
  {
   "cell_type": "markdown",
   "id": "82b082f1",
   "metadata": {},
   "source": [
    "# cleaning location column "
   ]
  },
  {
   "cell_type": "code",
   "execution_count": 33,
   "id": "29a8aa02",
   "metadata": {},
   "outputs": [
    {
     "data": {
      "text/plain": [
       "others                   3730\n",
       "Koramangala 5th Block    1799\n",
       "BTM                      1486\n",
       "Indiranagar              1365\n",
       "HSR                      1176\n",
       "Jayanagar                1077\n",
       "JP Nagar                 1029\n",
       "Whitefield                835\n",
       "Koramangala 7th Block     742\n",
       "Koramangala 6th Block     726\n",
       "Marathahalli              680\n",
       "Koramangala 4th Block     664\n",
       "MG Road                   601\n",
       "Brigade Road              567\n",
       "Church Street             509\n",
       "Bannerghatta Road         499\n",
       "Ulsoor                    476\n",
       "Bellandur                 474\n",
       "Kalyan Nagar              468\n",
       "Koramangala 1st Block     467\n",
       "Sarjapur Road             455\n",
       "Lavelle Road              441\n",
       "Residency Road            439\n",
       "Banashankari              390\n",
       "Malleshwaram              372\n",
       "Richmond Road             351\n",
       "Cunningham Road           332\n",
       "Electronic City           326\n",
       "Brookefield               307\n",
       "New BEL Road              306\n",
       "St. Marks Road            304\n",
       "Name: location, dtype: int64"
      ]
     },
     "execution_count": 33,
     "metadata": {},
     "output_type": "execute_result"
    }
   ],
   "source": [
    "location=df['location'].value_counts(ascending=False)\n",
    "location_lessthan300 =location[location<300]\n",
    "\n",
    "\n",
    "def handle_location(value):\n",
    "    if(value in location_lessthan300):\n",
    "        return 'others'\n",
    "    else:\n",
    "        return value\n",
    "df['location']=df['location'].apply(handle_location)\n",
    "df['location'].value_counts()"
   ]
  },
  {
   "cell_type": "code",
   "execution_count": 34,
   "id": "b929bd1c",
   "metadata": {},
   "outputs": [
    {
     "data": {
      "text/plain": [
       "Index(['name', 'online_order', 'book_table', 'rate', 'votes', 'location',\n",
       "       'rest_type', 'dish_liked', 'cuisines', 'Cost2plates', 'Type'],\n",
       "      dtype='object')"
      ]
     },
     "execution_count": 34,
     "metadata": {},
     "output_type": "execute_result"
    }
   ],
   "source": [
    "#cleaning cuisines columns\n",
    "df.columns"
   ]
  },
  {
   "cell_type": "code",
   "execution_count": 44,
   "id": "a7a69c12",
   "metadata": {},
   "outputs": [
    {
     "data": {
      "text/plain": [
       "others                                              17661\n",
       "North Indian                                         1160\n",
       "North Indian, Chinese                                 778\n",
       "South Indian                                          367\n",
       "Cafe                                                  285\n",
       "South Indian, North Indian, Chinese                   233\n",
       "Bakery, Desserts                                      217\n",
       "Desserts, Beverages                                   216\n",
       "Ice Cream, Desserts                                   211\n",
       "Chinese                                               210\n",
       "Desserts                                              209\n",
       "Biryani                                               169\n",
       "Chinese, Momos                                        162\n",
       "Finger Food                                           151\n",
       "Fast Food                                             150\n",
       "North Indian, Chinese, Biryani                        139\n",
       "Mithai, Street Food                                   138\n",
       "North Indian, Mughlai                                 134\n",
       "Burger, Fast Food                                     132\n",
       "Cafe, Continental                                     124\n",
       "Desserts, Ice Cream                                   121\n",
       "Chinese, Thai                                         117\n",
       "Pizza, Fast Food                                      106\n",
       "South Indian, North Indian, Chinese, Street Food      103\n",
       "Cafe, Desserts                                        100\n",
       "Name: cuisines, dtype: int64"
      ]
     },
     "execution_count": 44,
     "metadata": {},
     "output_type": "execute_result"
    }
   ],
   "source": [
    "cuisines=df['cuisines'].value_counts(ascending=False)\n",
    "cuisines_lessthan100=cuisines[cuisines<100]\n",
    "\n",
    "\n",
    "def handle_cuisines(value):\n",
    "    if(value in cuisines_lessthan100):\n",
    "        return 'others'\n",
    "    else:\n",
    "        return value\n",
    "df['cuisines']=df['cuisines'].apply(handle_cuisines)\n",
    "df['cuisines'].value_counts()"
   ]
  },
  {
   "cell_type": "markdown",
   "id": "da3c2a9f",
   "metadata": {},
   "source": [
    "# data is clean lets jump to visualization "
   ]
  },
  {
   "cell_type": "markdown",
   "id": "17edf4be",
   "metadata": {},
   "source": [
    "# count plot of various locations"
   ]
  },
  {
   "cell_type": "code",
   "execution_count": 45,
   "id": "5548cb13",
   "metadata": {},
   "outputs": [
    {
     "data": {
      "text/plain": [
       "(array([ 0,  1,  2,  3,  4,  5,  6,  7,  8,  9, 10, 11, 12, 13, 14, 15, 16,\n",
       "        17, 18, 19, 20, 21, 22, 23, 24, 25, 26, 27, 28, 29, 30]),\n",
       " [Text(0, 0, 'Banashankari'),\n",
       "  Text(1, 0, 'others'),\n",
       "  Text(2, 0, 'Jayanagar'),\n",
       "  Text(3, 0, 'Bannerghatta Road'),\n",
       "  Text(4, 0, 'JP Nagar'),\n",
       "  Text(5, 0, 'BTM'),\n",
       "  Text(6, 0, 'Koramangala 5th Block'),\n",
       "  Text(7, 0, 'Richmond Road'),\n",
       "  Text(8, 0, 'Bellandur'),\n",
       "  Text(9, 0, 'Sarjapur Road'),\n",
       "  Text(10, 0, 'Marathahalli'),\n",
       "  Text(11, 0, 'HSR'),\n",
       "  Text(12, 0, 'Indiranagar'),\n",
       "  Text(13, 0, 'Koramangala 1st Block'),\n",
       "  Text(14, 0, 'MG Road'),\n",
       "  Text(15, 0, 'Brigade Road'),\n",
       "  Text(16, 0, 'Lavelle Road'),\n",
       "  Text(17, 0, 'Church Street'),\n",
       "  Text(18, 0, 'Ulsoor'),\n",
       "  Text(19, 0, 'Residency Road'),\n",
       "  Text(20, 0, 'St. Marks Road'),\n",
       "  Text(21, 0, 'Cunningham Road'),\n",
       "  Text(22, 0, 'Koramangala 6th Block'),\n",
       "  Text(23, 0, 'Koramangala 7th Block'),\n",
       "  Text(24, 0, 'Brookefield'),\n",
       "  Text(25, 0, 'Whitefield'),\n",
       "  Text(26, 0, 'Koramangala 4th Block'),\n",
       "  Text(27, 0, 'Electronic City'),\n",
       "  Text(28, 0, 'Kalyan Nagar'),\n",
       "  Text(29, 0, 'Malleshwaram'),\n",
       "  Text(30, 0, 'New BEL Road')])"
      ]
     },
     "execution_count": 45,
     "metadata": {},
     "output_type": "execute_result"
    },
    {
     "data": {
      "image/png": "[encoded data removed]",
      "text/plain": [
       "<Figure size 1152x720 with 1 Axes>"
      ]
     },
     "metadata": {},
     "output_type": "display_data"
    }
   ],
   "source": [
    "plt.figure(figsize=(16,10))\n",
    "ax=sns.countplot(df['location'])\n",
    "plt.xticks(rotation=90)"
   ]
  },
  {
   "cell_type": "markdown",
   "id": "97edfcbe",
   "metadata": {},
   "source": [
    "# visualizing online order "
   ]
  },
  {
   "cell_type": "code",
   "execution_count": 46,
   "id": "e88388c9",
   "metadata": {},
   "outputs": [
    {
     "data": {
      "text/plain": [
       "<AxesSubplot:xlabel='online_order', ylabel='count'>"
      ]
     },
     "execution_count": 46,
     "metadata": {},
     "output_type": "execute_result"
    },
    {
     "data": {
      "image/png": "[encoded data removed]",
      "text/plain": [
       "<Figure size 432x432 with 1 Axes>"
      ]
     },
     "metadata": {},
     "output_type": "display_data"
    }
   ],
   "source": [
    "plt.figure(figsize=(6,6))\n",
    "sns.countplot(df['online_order'],palette='inferno') #color code is refers to palette "
   ]
  },
  {
   "cell_type": "markdown",
   "id": "ece2b9bd",
   "metadata": {},
   "source": [
    "# visualizing book table "
   ]
  },
  {
   "cell_type": "code",
   "execution_count": 47,
   "id": "4ea75cd2",
   "metadata": {},
   "outputs": [
    {
     "data": {
      "text/plain": [
       "<AxesSubplot:xlabel='book_table', ylabel='count'>"
      ]
     },
     "execution_count": 47,
     "metadata": {},
     "output_type": "execute_result"
    },
    {
     "data": {
      "image/png": "[encoded data removed]",
      "text/plain": [
       "<Figure size 432x432 with 1 Axes>"
      ]
     },
     "metadata": {},
     "output_type": "display_data"
    }
   ],
   "source": [
    "plt.figure(figsize=(6,6))\n",
    "sns.countplot(df['book_table'],palette='rainbow')"
   ]
  },
  {
   "cell_type": "markdown",
   "id": "a3399904",
   "metadata": {},
   "source": [
    "# visualizing online order vs rate"
   ]
  },
  {
   "cell_type": "code",
   "execution_count": 48,
   "id": "b8fcf13b",
   "metadata": {},
   "outputs": [
    {
     "data": {
      "text/plain": [
       "<AxesSubplot:xlabel='online_order', ylabel='rate'>"
      ]
     },
     "execution_count": 48,
     "metadata": {},
     "output_type": "execute_result"
    },
    {
     "data": {
      "image/png": "[encoded data removed]",
      "text/plain": [
       "<Figure size 432x432 with 1 Axes>"
      ]
     },
     "metadata": {},
     "output_type": "display_data"
    }
   ],
   "source": [
    "plt.figure(figsize=(6,6))\n",
    "sns.boxplot(x='online_order',y='rate',data=df)"
   ]
  },
  {
   "cell_type": "markdown",
   "id": "6b09c8e4",
   "metadata": {},
   "source": [
    "# visualizing book  table vs rate"
   ]
  },
  {
   "cell_type": "code",
   "execution_count": 49,
   "id": "98f2ab6f",
   "metadata": {},
   "outputs": [
    {
     "data": {
      "text/plain": [
       "<AxesSubplot:xlabel='book_table', ylabel='rate'>"
      ]
     },
     "execution_count": 49,
     "metadata": {},
     "output_type": "execute_result"
    },
    {
     "data": {
      "image/png": "[encoded data removed]",
      "text/plain": [
       "<Figure size 432x432 with 1 Axes>"
      ]
     },
     "metadata": {},
     "output_type": "display_data"
    }
   ],
   "source": [
    "plt.figure(figsize=(6,6))\n",
    "sns.boxplot(x='book_table',y='rate',data=df)"
   ]
  },
  {
   "cell_type": "markdown",
   "id": "649e5c6b",
   "metadata": {},
   "source": [
    "# visualizing online order facility ,location wise"
   ]
  },
  {
   "cell_type": "code",
   "execution_count": 51,
   "id": "dd975bea",
   "metadata": {},
   "outputs": [
    {
     "data": {
      "text/html": [
       "<div>\n",
       "<style scoped>\n",
       "    .dataframe tbody tr th:only-of-type {\n",
       "        vertical-align: middle;\n",
       "    }\n",
       "\n",
       "    .dataframe tbody tr th {\n",
       "        vertical-align: top;\n",
       "    }\n",
       "\n",
       "    .dataframe thead tr th {\n",
       "        text-align: left;\n",
       "    }\n",
       "\n",
       "    .dataframe thead tr:last-of-type th {\n",
       "        text-align: right;\n",
       "    }\n",
       "</style>\n",
       "<table border=\"1\" class=\"dataframe\">\n",
       "  <thead>\n",
       "    <tr>\n",
       "      <th></th>\n",
       "      <th colspan=\"2\" halign=\"left\">name</th>\n",
       "    </tr>\n",
       "    <tr>\n",
       "      <th>online_order</th>\n",
       "      <th>No</th>\n",
       "      <th>Yes</th>\n",
       "    </tr>\n",
       "    <tr>\n",
       "      <th>location</th>\n",
       "      <th></th>\n",
       "      <th></th>\n",
       "    </tr>\n",
       "  </thead>\n",
       "  <tbody>\n",
       "    <tr>\n",
       "      <th>BTM</th>\n",
       "      <td>274</td>\n",
       "      <td>1212</td>\n",
       "    </tr>\n",
       "    <tr>\n",
       "      <th>Banashankari</th>\n",
       "      <td>103</td>\n",
       "      <td>287</td>\n",
       "    </tr>\n",
       "    <tr>\n",
       "      <th>Bannerghatta Road</th>\n",
       "      <td>114</td>\n",
       "      <td>385</td>\n",
       "    </tr>\n",
       "    <tr>\n",
       "      <th>Bellandur</th>\n",
       "      <td>118</td>\n",
       "      <td>356</td>\n",
       "    </tr>\n",
       "    <tr>\n",
       "      <th>Brigade Road</th>\n",
       "      <td>224</td>\n",
       "      <td>343</td>\n",
       "    </tr>\n",
       "    <tr>\n",
       "      <th>Brookefield</th>\n",
       "      <td>61</td>\n",
       "      <td>246</td>\n",
       "    </tr>\n",
       "    <tr>\n",
       "      <th>Church Street</th>\n",
       "      <td>195</td>\n",
       "      <td>314</td>\n",
       "    </tr>\n",
       "    <tr>\n",
       "      <th>Cunningham Road</th>\n",
       "      <td>62</td>\n",
       "      <td>270</td>\n",
       "    </tr>\n",
       "    <tr>\n",
       "      <th>Electronic City</th>\n",
       "      <td>98</td>\n",
       "      <td>228</td>\n",
       "    </tr>\n",
       "    <tr>\n",
       "      <th>HSR</th>\n",
       "      <td>161</td>\n",
       "      <td>1015</td>\n",
       "    </tr>\n",
       "    <tr>\n",
       "      <th>Indiranagar</th>\n",
       "      <td>403</td>\n",
       "      <td>962</td>\n",
       "    </tr>\n",
       "    <tr>\n",
       "      <th>JP Nagar</th>\n",
       "      <td>315</td>\n",
       "      <td>714</td>\n",
       "    </tr>\n",
       "    <tr>\n",
       "      <th>Jayanagar</th>\n",
       "      <td>220</td>\n",
       "      <td>857</td>\n",
       "    </tr>\n",
       "    <tr>\n",
       "      <th>Kalyan Nagar</th>\n",
       "      <td>127</td>\n",
       "      <td>341</td>\n",
       "    </tr>\n",
       "    <tr>\n",
       "      <th>Koramangala 1st Block</th>\n",
       "      <td>57</td>\n",
       "      <td>410</td>\n",
       "    </tr>\n",
       "    <tr>\n",
       "      <th>Koramangala 4th Block</th>\n",
       "      <td>262</td>\n",
       "      <td>402</td>\n",
       "    </tr>\n",
       "    <tr>\n",
       "      <th>Koramangala 5th Block</th>\n",
       "      <td>564</td>\n",
       "      <td>1235</td>\n",
       "    </tr>\n",
       "    <tr>\n",
       "      <th>Koramangala 6th Block</th>\n",
       "      <td>239</td>\n",
       "      <td>487</td>\n",
       "    </tr>\n",
       "    <tr>\n",
       "      <th>Koramangala 7th Block</th>\n",
       "      <td>216</td>\n",
       "      <td>526</td>\n",
       "    </tr>\n",
       "    <tr>\n",
       "      <th>Lavelle Road</th>\n",
       "      <td>253</td>\n",
       "      <td>188</td>\n",
       "    </tr>\n",
       "    <tr>\n",
       "      <th>MG Road</th>\n",
       "      <td>327</td>\n",
       "      <td>274</td>\n",
       "    </tr>\n",
       "    <tr>\n",
       "      <th>Malleshwaram</th>\n",
       "      <td>132</td>\n",
       "      <td>240</td>\n",
       "    </tr>\n",
       "    <tr>\n",
       "      <th>Marathahalli</th>\n",
       "      <td>161</td>\n",
       "      <td>519</td>\n",
       "    </tr>\n",
       "    <tr>\n",
       "      <th>New BEL Road</th>\n",
       "      <td>64</td>\n",
       "      <td>242</td>\n",
       "    </tr>\n",
       "    <tr>\n",
       "      <th>Residency Road</th>\n",
       "      <td>265</td>\n",
       "      <td>174</td>\n",
       "    </tr>\n",
       "    <tr>\n",
       "      <th>Richmond Road</th>\n",
       "      <td>202</td>\n",
       "      <td>149</td>\n",
       "    </tr>\n",
       "    <tr>\n",
       "      <th>Sarjapur Road</th>\n",
       "      <td>108</td>\n",
       "      <td>347</td>\n",
       "    </tr>\n",
       "    <tr>\n",
       "      <th>St. Marks Road</th>\n",
       "      <td>137</td>\n",
       "      <td>167</td>\n",
       "    </tr>\n",
       "    <tr>\n",
       "      <th>Ulsoor</th>\n",
       "      <td>170</td>\n",
       "      <td>306</td>\n",
       "    </tr>\n",
       "    <tr>\n",
       "      <th>Whitefield</th>\n",
       "      <td>267</td>\n",
       "      <td>568</td>\n",
       "    </tr>\n",
       "    <tr>\n",
       "      <th>others</th>\n",
       "      <td>1058</td>\n",
       "      <td>2672</td>\n",
       "    </tr>\n",
       "  </tbody>\n",
       "</table>\n",
       "</div>"
      ],
      "text/plain": [
       "                       name      \n",
       "online_order             No   Yes\n",
       "location                         \n",
       "BTM                     274  1212\n",
       "Banashankari            103   287\n",
       "Bannerghatta Road       114   385\n",
       "Bellandur               118   356\n",
       "Brigade Road            224   343\n",
       "Brookefield              61   246\n",
       "Church Street           195   314\n",
       "Cunningham Road          62   270\n",
       "Electronic City          98   228\n",
       "HSR                     161  1015\n",
       "Indiranagar             403   962\n",
       "JP Nagar                315   714\n",
       "Jayanagar               220   857\n",
       "Kalyan Nagar            127   341\n",
       "Koramangala 1st Block    57   410\n",
       "Koramangala 4th Block   262   402\n",
       "Koramangala 5th Block   564  1235\n",
       "Koramangala 6th Block   239   487\n",
       "Koramangala 7th Block   216   526\n",
       "Lavelle Road            253   188\n",
       "MG Road                 327   274\n",
       "Malleshwaram            132   240\n",
       "Marathahalli            161   519\n",
       "New BEL Road             64   242\n",
       "Residency Road          265   174\n",
       "Richmond Road           202   149\n",
       "Sarjapur Road           108   347\n",
       "St. Marks Road          137   167\n",
       "Ulsoor                  170   306\n",
       "Whitefield              267   568\n",
       "others                 1058  2672"
      ]
     },
     "execution_count": 51,
     "metadata": {},
     "output_type": "execute_result"
    }
   ],
   "source": [
    "df1 = df.groupby(['location','online_order'])['name'].count()\n",
    "df1.to_csv('location_online.csv')\n",
    "df1 = pd.read_csv('location_online.csv')\n",
    "df1 = pd.pivot_table(df1, values=None, index=['location'], columns=['online_order'], fill_value=0, aggfunc=np.sum)\n",
    "df1\n",
    "\n"
   ]
  },
  {
   "cell_type": "code",
   "execution_count": 52,
   "id": "6a3b5283",
   "metadata": {
    "scrolled": true
   },
   "outputs": [
    {
     "data": {
      "text/plain": [
       "<AxesSubplot:xlabel='location'>"
      ]
     },
     "execution_count": 52,
     "metadata": {},
     "output_type": "execute_result"
    },
    {
     "data": {
      "image/png": "[encoded data removed]",
      "text/plain": [
       "<Figure size 1080x576 with 1 Axes>"
      ]
     },
     "metadata": {},
     "output_type": "display_data"
    }
   ],
   "source": [
    "df1.plot(kind = 'bar', figsize = (15,8))\n"
   ]
  },
  {
   "cell_type": "markdown",
   "id": "be7a3e71",
   "metadata": {},
   "source": [
    "# visualizing online order location,book_table  wise"
   ]
  },
  {
   "cell_type": "code",
   "execution_count": 53,
   "id": "71280481",
   "metadata": {},
   "outputs": [
    {
     "data": {
      "text/plain": [
       "<AxesSubplot:xlabel='Type', ylabel='rate'>"
      ]
     },
     "execution_count": 53,
     "metadata": {},
     "output_type": "execute_result"
    },
    {
     "data": {
      "image/png": "[encoded data removed]",
      "text/plain": [
       "<Figure size 1080x576 with 1 Axes>"
      ]
     },
     "metadata": {},
     "output_type": "display_data"
    },
    {
     "data": {
      "image/png": "[encoded data removed]",
      "text/plain": [
       "<Figure size 1008x576 with 1 Axes>"
      ]
     },
     "metadata": {},
     "output_type": "display_data"
    }
   ],
   "source": [
    "df2 = df.groupby(['location','book_table'])['name'].count()\n",
    "df2.to_csv('location_booktable.csv')\n",
    "df2 = pd.read_csv('location_booktable.csv')\n",
    "df2 = pd.pivot_table(df2, values=None, index=['location'], columns=['book_table'], fill_value=0, aggfunc=np.sum)\n",
    "df2\n",
    "df2.plot(kind = 'bar', figsize = (15,8))\n",
    "plt.figure(figsize = (14, 8))\n",
    "sns.boxplot(x = 'Type', y = 'rate', data = df, palette = 'inferno')\n"
   ]
  },
  {
   "cell_type": "markdown",
   "id": "077f789e",
   "metadata": {},
   "source": [
    "# ploting location','Type"
   ]
  },
  {
   "cell_type": "code",
   "execution_count": 54,
   "id": "599cce0f",
   "metadata": {},
   "outputs": [
    {
     "data": {
      "text/html": [
       "<div>\n",
       "<style scoped>\n",
       "    .dataframe tbody tr th:only-of-type {\n",
       "        vertical-align: middle;\n",
       "    }\n",
       "\n",
       "    .dataframe tbody tr th {\n",
       "        vertical-align: top;\n",
       "    }\n",
       "\n",
       "    .dataframe thead tr th {\n",
       "        text-align: left;\n",
       "    }\n",
       "\n",
       "    .dataframe thead tr:last-of-type th {\n",
       "        text-align: right;\n",
       "    }\n",
       "</style>\n",
       "<table border=\"1\" class=\"dataframe\">\n",
       "  <thead>\n",
       "    <tr>\n",
       "      <th></th>\n",
       "      <th colspan=\"7\" halign=\"left\">name</th>\n",
       "    </tr>\n",
       "    <tr>\n",
       "      <th>Type</th>\n",
       "      <th>Buffet</th>\n",
       "      <th>Cafes</th>\n",
       "      <th>Delivery</th>\n",
       "      <th>Desserts</th>\n",
       "      <th>Dine-out</th>\n",
       "      <th>Drinks &amp; nightlife</th>\n",
       "      <th>Pubs and bars</th>\n",
       "    </tr>\n",
       "    <tr>\n",
       "      <th>location</th>\n",
       "      <th></th>\n",
       "      <th></th>\n",
       "      <th></th>\n",
       "      <th></th>\n",
       "      <th></th>\n",
       "      <th></th>\n",
       "      <th></th>\n",
       "    </tr>\n",
       "  </thead>\n",
       "  <tbody>\n",
       "    <tr>\n",
       "      <th>BTM</th>\n",
       "      <td>18</td>\n",
       "      <td>36</td>\n",
       "      <td>902</td>\n",
       "      <td>54</td>\n",
       "      <td>461</td>\n",
       "      <td>9</td>\n",
       "      <td>6</td>\n",
       "    </tr>\n",
       "    <tr>\n",
       "      <th>Banashankari</th>\n",
       "      <td>7</td>\n",
       "      <td>24</td>\n",
       "      <td>191</td>\n",
       "      <td>19</td>\n",
       "      <td>141</td>\n",
       "      <td>8</td>\n",
       "      <td>0</td>\n",
       "    </tr>\n",
       "    <tr>\n",
       "      <th>Bannerghatta Road</th>\n",
       "      <td>8</td>\n",
       "      <td>19</td>\n",
       "      <td>252</td>\n",
       "      <td>28</td>\n",
       "      <td>182</td>\n",
       "      <td>8</td>\n",
       "      <td>2</td>\n",
       "    </tr>\n",
       "    <tr>\n",
       "      <th>Bellandur</th>\n",
       "      <td>26</td>\n",
       "      <td>11</td>\n",
       "      <td>217</td>\n",
       "      <td>26</td>\n",
       "      <td>167</td>\n",
       "      <td>15</td>\n",
       "      <td>12</td>\n",
       "    </tr>\n",
       "    <tr>\n",
       "      <th>Brigade Road</th>\n",
       "      <td>20</td>\n",
       "      <td>20</td>\n",
       "      <td>200</td>\n",
       "      <td>42</td>\n",
       "      <td>213</td>\n",
       "      <td>52</td>\n",
       "      <td>20</td>\n",
       "    </tr>\n",
       "    <tr>\n",
       "      <th>Brookefield</th>\n",
       "      <td>6</td>\n",
       "      <td>15</td>\n",
       "      <td>150</td>\n",
       "      <td>14</td>\n",
       "      <td>118</td>\n",
       "      <td>4</td>\n",
       "      <td>0</td>\n",
       "    </tr>\n",
       "    <tr>\n",
       "      <th>Church Street</th>\n",
       "      <td>19</td>\n",
       "      <td>41</td>\n",
       "      <td>176</td>\n",
       "      <td>25</td>\n",
       "      <td>197</td>\n",
       "      <td>31</td>\n",
       "      <td>20</td>\n",
       "    </tr>\n",
       "    <tr>\n",
       "      <th>Cunningham Road</th>\n",
       "      <td>23</td>\n",
       "      <td>23</td>\n",
       "      <td>144</td>\n",
       "      <td>17</td>\n",
       "      <td>110</td>\n",
       "      <td>11</td>\n",
       "      <td>4</td>\n",
       "    </tr>\n",
       "    <tr>\n",
       "      <th>Electronic City</th>\n",
       "      <td>17</td>\n",
       "      <td>11</td>\n",
       "      <td>125</td>\n",
       "      <td>15</td>\n",
       "      <td>134</td>\n",
       "      <td>12</td>\n",
       "      <td>12</td>\n",
       "    </tr>\n",
       "    <tr>\n",
       "      <th>HSR</th>\n",
       "      <td>17</td>\n",
       "      <td>36</td>\n",
       "      <td>765</td>\n",
       "      <td>55</td>\n",
       "      <td>275</td>\n",
       "      <td>13</td>\n",
       "      <td>15</td>\n",
       "    </tr>\n",
       "    <tr>\n",
       "      <th>Indiranagar</th>\n",
       "      <td>36</td>\n",
       "      <td>84</td>\n",
       "      <td>678</td>\n",
       "      <td>91</td>\n",
       "      <td>358</td>\n",
       "      <td>60</td>\n",
       "      <td>58</td>\n",
       "    </tr>\n",
       "    <tr>\n",
       "      <th>JP Nagar</th>\n",
       "      <td>34</td>\n",
       "      <td>51</td>\n",
       "      <td>470</td>\n",
       "      <td>63</td>\n",
       "      <td>360</td>\n",
       "      <td>45</td>\n",
       "      <td>6</td>\n",
       "    </tr>\n",
       "    <tr>\n",
       "      <th>Jayanagar</th>\n",
       "      <td>25</td>\n",
       "      <td>57</td>\n",
       "      <td>586</td>\n",
       "      <td>75</td>\n",
       "      <td>322</td>\n",
       "      <td>12</td>\n",
       "      <td>0</td>\n",
       "    </tr>\n",
       "    <tr>\n",
       "      <th>Kalyan Nagar</th>\n",
       "      <td>9</td>\n",
       "      <td>27</td>\n",
       "      <td>193</td>\n",
       "      <td>33</td>\n",
       "      <td>188</td>\n",
       "      <td>18</td>\n",
       "      <td>0</td>\n",
       "    </tr>\n",
       "    <tr>\n",
       "      <th>Koramangala 1st Block</th>\n",
       "      <td>3</td>\n",
       "      <td>18</td>\n",
       "      <td>269</td>\n",
       "      <td>17</td>\n",
       "      <td>148</td>\n",
       "      <td>7</td>\n",
       "      <td>5</td>\n",
       "    </tr>\n",
       "    <tr>\n",
       "      <th>Koramangala 4th Block</th>\n",
       "      <td>16</td>\n",
       "      <td>44</td>\n",
       "      <td>267</td>\n",
       "      <td>41</td>\n",
       "      <td>216</td>\n",
       "      <td>52</td>\n",
       "      <td>28</td>\n",
       "    </tr>\n",
       "    <tr>\n",
       "      <th>Koramangala 5th Block</th>\n",
       "      <td>65</td>\n",
       "      <td>124</td>\n",
       "      <td>715</td>\n",
       "      <td>157</td>\n",
       "      <td>601</td>\n",
       "      <td>84</td>\n",
       "      <td>53</td>\n",
       "    </tr>\n",
       "    <tr>\n",
       "      <th>Koramangala 6th Block</th>\n",
       "      <td>18</td>\n",
       "      <td>36</td>\n",
       "      <td>313</td>\n",
       "      <td>44</td>\n",
       "      <td>261</td>\n",
       "      <td>39</td>\n",
       "      <td>15</td>\n",
       "    </tr>\n",
       "    <tr>\n",
       "      <th>Koramangala 7th Block</th>\n",
       "      <td>25</td>\n",
       "      <td>32</td>\n",
       "      <td>280</td>\n",
       "      <td>73</td>\n",
       "      <td>291</td>\n",
       "      <td>20</td>\n",
       "      <td>21</td>\n",
       "    </tr>\n",
       "    <tr>\n",
       "      <th>Lavelle Road</th>\n",
       "      <td>30</td>\n",
       "      <td>22</td>\n",
       "      <td>99</td>\n",
       "      <td>29</td>\n",
       "      <td>176</td>\n",
       "      <td>54</td>\n",
       "      <td>31</td>\n",
       "    </tr>\n",
       "    <tr>\n",
       "      <th>MG Road</th>\n",
       "      <td>44</td>\n",
       "      <td>43</td>\n",
       "      <td>143</td>\n",
       "      <td>29</td>\n",
       "      <td>258</td>\n",
       "      <td>52</td>\n",
       "      <td>32</td>\n",
       "    </tr>\n",
       "    <tr>\n",
       "      <th>Malleshwaram</th>\n",
       "      <td>11</td>\n",
       "      <td>16</td>\n",
       "      <td>119</td>\n",
       "      <td>27</td>\n",
       "      <td>165</td>\n",
       "      <td>20</td>\n",
       "      <td>14</td>\n",
       "    </tr>\n",
       "    <tr>\n",
       "      <th>Marathahalli</th>\n",
       "      <td>27</td>\n",
       "      <td>8</td>\n",
       "      <td>354</td>\n",
       "      <td>18</td>\n",
       "      <td>250</td>\n",
       "      <td>21</td>\n",
       "      <td>2</td>\n",
       "    </tr>\n",
       "    <tr>\n",
       "      <th>New BEL Road</th>\n",
       "      <td>4</td>\n",
       "      <td>20</td>\n",
       "      <td>159</td>\n",
       "      <td>14</td>\n",
       "      <td>94</td>\n",
       "      <td>7</td>\n",
       "      <td>8</td>\n",
       "    </tr>\n",
       "    <tr>\n",
       "      <th>Residency Road</th>\n",
       "      <td>20</td>\n",
       "      <td>20</td>\n",
       "      <td>110</td>\n",
       "      <td>42</td>\n",
       "      <td>190</td>\n",
       "      <td>40</td>\n",
       "      <td>17</td>\n",
       "    </tr>\n",
       "    <tr>\n",
       "      <th>Richmond Road</th>\n",
       "      <td>54</td>\n",
       "      <td>10</td>\n",
       "      <td>86</td>\n",
       "      <td>25</td>\n",
       "      <td>164</td>\n",
       "      <td>6</td>\n",
       "      <td>6</td>\n",
       "    </tr>\n",
       "    <tr>\n",
       "      <th>Sarjapur Road</th>\n",
       "      <td>25</td>\n",
       "      <td>11</td>\n",
       "      <td>208</td>\n",
       "      <td>25</td>\n",
       "      <td>146</td>\n",
       "      <td>19</td>\n",
       "      <td>21</td>\n",
       "    </tr>\n",
       "    <tr>\n",
       "      <th>St. Marks Road</th>\n",
       "      <td>5</td>\n",
       "      <td>10</td>\n",
       "      <td>101</td>\n",
       "      <td>10</td>\n",
       "      <td>120</td>\n",
       "      <td>36</td>\n",
       "      <td>22</td>\n",
       "    </tr>\n",
       "    <tr>\n",
       "      <th>Ulsoor</th>\n",
       "      <td>16</td>\n",
       "      <td>43</td>\n",
       "      <td>169</td>\n",
       "      <td>27</td>\n",
       "      <td>184</td>\n",
       "      <td>19</td>\n",
       "      <td>18</td>\n",
       "    </tr>\n",
       "    <tr>\n",
       "      <th>Whitefield</th>\n",
       "      <td>21</td>\n",
       "      <td>28</td>\n",
       "      <td>366</td>\n",
       "      <td>41</td>\n",
       "      <td>321</td>\n",
       "      <td>31</td>\n",
       "      <td>27</td>\n",
       "    </tr>\n",
       "    <tr>\n",
       "      <th>others</th>\n",
       "      <td>112</td>\n",
       "      <td>127</td>\n",
       "      <td>1887</td>\n",
       "      <td>191</td>\n",
       "      <td>1271</td>\n",
       "      <td>86</td>\n",
       "      <td>56</td>\n",
       "    </tr>\n",
       "  </tbody>\n",
       "</table>\n",
       "</div>"
      ],
      "text/plain": [
       "                        name                                   \\\n",
       "Type                  Buffet Cafes Delivery Desserts Dine-out   \n",
       "location                                                        \n",
       "BTM                       18    36      902       54      461   \n",
       "Banashankari               7    24      191       19      141   \n",
       "Bannerghatta Road          8    19      252       28      182   \n",
       "Bellandur                 26    11      217       26      167   \n",
       "Brigade Road              20    20      200       42      213   \n",
       "Brookefield                6    15      150       14      118   \n",
       "Church Street             19    41      176       25      197   \n",
       "Cunningham Road           23    23      144       17      110   \n",
       "Electronic City           17    11      125       15      134   \n",
       "HSR                       17    36      765       55      275   \n",
       "Indiranagar               36    84      678       91      358   \n",
       "JP Nagar                  34    51      470       63      360   \n",
       "Jayanagar                 25    57      586       75      322   \n",
       "Kalyan Nagar               9    27      193       33      188   \n",
       "Koramangala 1st Block      3    18      269       17      148   \n",
       "Koramangala 4th Block     16    44      267       41      216   \n",
       "Koramangala 5th Block     65   124      715      157      601   \n",
       "Koramangala 6th Block     18    36      313       44      261   \n",
       "Koramangala 7th Block     25    32      280       73      291   \n",
       "Lavelle Road              30    22       99       29      176   \n",
       "MG Road                   44    43      143       29      258   \n",
       "Malleshwaram              11    16      119       27      165   \n",
       "Marathahalli              27     8      354       18      250   \n",
       "New BEL Road               4    20      159       14       94   \n",
       "Residency Road            20    20      110       42      190   \n",
       "Richmond Road             54    10       86       25      164   \n",
       "Sarjapur Road             25    11      208       25      146   \n",
       "St. Marks Road             5    10      101       10      120   \n",
       "Ulsoor                    16    43      169       27      184   \n",
       "Whitefield                21    28      366       41      321   \n",
       "others                   112   127     1887      191     1271   \n",
       "\n",
       "                                                        \n",
       "Type                  Drinks & nightlife Pubs and bars  \n",
       "location                                                \n",
       "BTM                                    9             6  \n",
       "Banashankari                           8             0  \n",
       "Bannerghatta Road                      8             2  \n",
       "Bellandur                             15            12  \n",
       "Brigade Road                          52            20  \n",
       "Brookefield                            4             0  \n",
       "Church Street                         31            20  \n",
       "Cunningham Road                       11             4  \n",
       "Electronic City                       12            12  \n",
       "HSR                                   13            15  \n",
       "Indiranagar                           60            58  \n",
       "JP Nagar                              45             6  \n",
       "Jayanagar                             12             0  \n",
       "Kalyan Nagar                          18             0  \n",
       "Koramangala 1st Block                  7             5  \n",
       "Koramangala 4th Block                 52            28  \n",
       "Koramangala 5th Block                 84            53  \n",
       "Koramangala 6th Block                 39            15  \n",
       "Koramangala 7th Block                 20            21  \n",
       "Lavelle Road                          54            31  \n",
       "MG Road                               52            32  \n",
       "Malleshwaram                          20            14  \n",
       "Marathahalli                          21             2  \n",
       "New BEL Road                           7             8  \n",
       "Residency Road                        40            17  \n",
       "Richmond Road                          6             6  \n",
       "Sarjapur Road                         19            21  \n",
       "St. Marks Road                        36            22  \n",
       "Ulsoor                                19            18  \n",
       "Whitefield                            31            27  \n",
       "others                                86            56  "
      ]
     },
     "execution_count": 54,
     "metadata": {},
     "output_type": "execute_result"
    }
   ],
   "source": [
    "df3 = df.groupby(['location','Type'])['name'].count()\n",
    "df3.to_csv('location_Type.csv')\n",
    "df3 = pd.read_csv('location_Type.csv')\n",
    "df3 = pd.pivot_table(df3, values=None, index=['location'], columns=['Type'], fill_value=0, aggfunc=np.sum)\n",
    "df3\n"
   ]
  },
  {
   "cell_type": "code",
   "execution_count": 55,
   "id": "938f3c3e",
   "metadata": {},
   "outputs": [
    {
     "data": {
      "text/plain": [
       "<AxesSubplot:xlabel='location'>"
      ]
     },
     "execution_count": 55,
     "metadata": {},
     "output_type": "execute_result"
    },
    {
     "data": {
      "image/png": "[encoded data removed]",
      "text/plain": [
       "<Figure size 2592x576 with 1 Axes>"
      ]
     },
     "metadata": {},
     "output_type": "display_data"
    }
   ],
   "source": [
    "df3.plot(kind = 'bar', figsize = (36,8))\n"
   ]
  },
  {
   "cell_type": "markdown",
   "id": "dd92a9b9",
   "metadata": {},
   "source": [
    "# visualization 'location', 'votes'"
   ]
  },
  {
   "cell_type": "code",
   "execution_count": 57,
   "id": "da7411ab",
   "metadata": {},
   "outputs": [
    {
     "data": {
      "text/html": [
       "<div>\n",
       "<style scoped>\n",
       "    .dataframe tbody tr th:only-of-type {\n",
       "        vertical-align: middle;\n",
       "    }\n",
       "\n",
       "    .dataframe tbody tr th {\n",
       "        vertical-align: top;\n",
       "    }\n",
       "\n",
       "    .dataframe thead th {\n",
       "        text-align: right;\n",
       "    }\n",
       "</style>\n",
       "<table border=\"1\" class=\"dataframe\">\n",
       "  <thead>\n",
       "    <tr style=\"text-align: right;\">\n",
       "      <th></th>\n",
       "      <th>votes</th>\n",
       "    </tr>\n",
       "    <tr>\n",
       "      <th>location</th>\n",
       "      <th></th>\n",
       "    </tr>\n",
       "  </thead>\n",
       "  <tbody>\n",
       "    <tr>\n",
       "      <th>Koramangala 5th Block</th>\n",
       "      <td>2203218</td>\n",
       "    </tr>\n",
       "    <tr>\n",
       "      <th>others</th>\n",
       "      <td>1212757</td>\n",
       "    </tr>\n",
       "    <tr>\n",
       "      <th>Indiranagar</th>\n",
       "      <td>1155387</td>\n",
       "    </tr>\n",
       "    <tr>\n",
       "      <th>Koramangala 4th Block</th>\n",
       "      <td>680907</td>\n",
       "    </tr>\n",
       "    <tr>\n",
       "      <th>Church Street</th>\n",
       "      <td>589803</td>\n",
       "    </tr>\n",
       "  </tbody>\n",
       "</table>\n",
       "</div>"
      ],
      "text/plain": [
       "                         votes\n",
       "location                      \n",
       "Koramangala 5th Block  2203218\n",
       "others                 1212757\n",
       "Indiranagar            1155387\n",
       "Koramangala 4th Block   680907\n",
       "Church Street           589803"
      ]
     },
     "execution_count": 57,
     "metadata": {},
     "output_type": "execute_result"
    }
   ],
   "source": [
    "df4 = df[['location', 'votes']]\n",
    "df4.drop_duplicates()\n",
    "df5 = df4.groupby(['location'])['votes'].sum()\n",
    "df5 = df5.to_frame()\n",
    "df5 = df5.sort_values('votes', ascending=False)\n",
    "df5.head()"
   ]
  },
  {
   "cell_type": "code",
   "execution_count": 58,
   "id": "7a5ecba9",
   "metadata": {},
   "outputs": [
    {
     "data": {
      "text/plain": [
       "(array([ 0,  1,  2,  3,  4,  5,  6,  7,  8,  9, 10, 11, 12, 13, 14, 15, 16,\n",
       "        17, 18, 19, 20, 21, 22, 23, 24, 25, 26, 27, 28, 29, 30]),\n",
       " [Text(0, 0, 'Koramangala 5th Block'),\n",
       "  Text(1, 0, 'others'),\n",
       "  Text(2, 0, 'Indiranagar'),\n",
       "  Text(3, 0, 'Koramangala 4th Block'),\n",
       "  Text(4, 0, 'Church Street'),\n",
       "  Text(5, 0, 'JP Nagar'),\n",
       "  Text(6, 0, 'BTM'),\n",
       "  Text(7, 0, 'Lavelle Road'),\n",
       "  Text(8, 0, 'Koramangala 7th Block'),\n",
       "  Text(9, 0, 'HSR'),\n",
       "  Text(10, 0, 'Jayanagar'),\n",
       "  Text(11, 0, 'Koramangala 6th Block'),\n",
       "  Text(12, 0, 'Whitefield'),\n",
       "  Text(13, 0, 'MG Road'),\n",
       "  Text(14, 0, 'Marathahalli'),\n",
       "  Text(15, 0, 'Brigade Road'),\n",
       "  Text(16, 0, 'Sarjapur Road'),\n",
       "  Text(17, 0, 'Residency Road'),\n",
       "  Text(18, 0, 'Cunningham Road'),\n",
       "  Text(19, 0, 'St. Marks Road'),\n",
       "  Text(20, 0, 'Koramangala 1st Block'),\n",
       "  Text(21, 0, 'Malleshwaram'),\n",
       "  Text(22, 0, 'Bannerghatta Road'),\n",
       "  Text(23, 0, 'Bellandur'),\n",
       "  Text(24, 0, 'New BEL Road'),\n",
       "  Text(25, 0, 'Ulsoor'),\n",
       "  Text(26, 0, 'Kalyan Nagar'),\n",
       "  Text(27, 0, 'Banashankari'),\n",
       "  Text(28, 0, 'Richmond Road'),\n",
       "  Text(29, 0, 'Brookefield'),\n",
       "  Text(30, 0, 'Electronic City')])"
      ]
     },
     "execution_count": 58,
     "metadata": {},
     "output_type": "execute_result"
    },
    {
     "data": {
      "image/png": "[encoded data removed]",
      "text/plain": [
       "<Figure size 1080x576 with 1 Axes>"
      ]
     },
     "metadata": {},
     "output_type": "display_data"
    }
   ],
   "source": [
    "plt.figure(figsize = (15,8))\n",
    "sns.barplot(df5.index , df5['votes'])\n",
    "plt.xticks(rotation = 90)\n"
   ]
  },
  {
   "cell_type": "markdown",
   "id": "f8a70df9",
   "metadata": {},
   "source": [
    "# visualization 'cuisines', 'votes'"
   ]
  },
  {
   "cell_type": "code",
   "execution_count": 60,
   "id": "5485c545",
   "metadata": {},
   "outputs": [
    {
     "data": {
      "text/html": [
       "<div>\n",
       "<style scoped>\n",
       "    .dataframe tbody tr th:only-of-type {\n",
       "        vertical-align: middle;\n",
       "    }\n",
       "\n",
       "    .dataframe tbody tr th {\n",
       "        vertical-align: top;\n",
       "    }\n",
       "\n",
       "    .dataframe thead th {\n",
       "        text-align: right;\n",
       "    }\n",
       "</style>\n",
       "<table border=\"1\" class=\"dataframe\">\n",
       "  <thead>\n",
       "    <tr style=\"text-align: right;\">\n",
       "      <th></th>\n",
       "      <th>votes</th>\n",
       "    </tr>\n",
       "    <tr>\n",
       "      <th>cuisines</th>\n",
       "      <th></th>\n",
       "    </tr>\n",
       "  </thead>\n",
       "  <tbody>\n",
       "    <tr>\n",
       "      <th>others</th>\n",
       "      <td>12111844</td>\n",
       "    </tr>\n",
       "    <tr>\n",
       "      <th>North Indian</th>\n",
       "      <td>494635</td>\n",
       "    </tr>\n",
       "    <tr>\n",
       "      <th>North Indian, Chinese</th>\n",
       "      <td>222514</td>\n",
       "    </tr>\n",
       "    <tr>\n",
       "      <th>South Indian</th>\n",
       "      <td>144467</td>\n",
       "    </tr>\n",
       "    <tr>\n",
       "      <th>North Indian, Mughlai</th>\n",
       "      <td>102581</td>\n",
       "    </tr>\n",
       "  </tbody>\n",
       "</table>\n",
       "</div>"
      ],
      "text/plain": [
       "                          votes\n",
       "cuisines                       \n",
       "others                 12111844\n",
       "North Indian             494635\n",
       "North Indian, Chinese    222514\n",
       "South Indian             144467\n",
       "North Indian, Mughlai    102581"
      ]
     },
     "execution_count": 60,
     "metadata": {},
     "output_type": "execute_result"
    }
   ],
   "source": [
    "df6 = df[['cuisines', 'votes']]\n",
    "df6.drop_duplicates()\n",
    "df7 = df6.groupby(['cuisines'])['votes'].sum()\n",
    "df7 = df7.to_frame()\n",
    "df7 = df7.sort_values('votes', ascending=False)\n",
    "df7.head()\n"
   ]
  },
  {
   "cell_type": "code",
   "execution_count": 61,
   "id": "27598e37",
   "metadata": {},
   "outputs": [
    {
     "data": {
      "text/plain": [
       "(array([ 0,  1,  2,  3,  4,  5,  6,  7,  8,  9, 10, 11, 12, 13, 14, 15, 16,\n",
       "        17, 18, 19, 20, 21, 22, 23, 24]),\n",
       " [Text(0, 0, 'others'),\n",
       "  Text(1, 0, 'North Indian'),\n",
       "  Text(2, 0, 'North Indian, Chinese'),\n",
       "  Text(3, 0, 'South Indian'),\n",
       "  Text(4, 0, 'North Indian, Mughlai'),\n",
       "  Text(5, 0, 'Chinese'),\n",
       "  Text(6, 0, 'Cafe'),\n",
       "  Text(7, 0, 'Chinese, Momos'),\n",
       "  Text(8, 0, 'Desserts'),\n",
       "  Text(9, 0, 'Cafe, Continental'),\n",
       "  Text(10, 0, 'Ice Cream, Desserts'),\n",
       "  Text(11, 0, 'Desserts, Beverages'),\n",
       "  Text(12, 0, 'South Indian, North Indian, Chinese'),\n",
       "  Text(13, 0, 'Finger Food'),\n",
       "  Text(14, 0, 'Burger, Fast Food'),\n",
       "  Text(15, 0, 'Cafe, Desserts'),\n",
       "  Text(16, 0, 'Biryani'),\n",
       "  Text(17, 0, 'Bakery, Desserts'),\n",
       "  Text(18, 0, 'Pizza, Fast Food'),\n",
       "  Text(19, 0, 'Chinese, Thai'),\n",
       "  Text(20, 0, 'South Indian, North Indian, Chinese, Street Food'),\n",
       "  Text(21, 0, 'North Indian, Chinese, Biryani'),\n",
       "  Text(22, 0, 'Mithai, Street Food'),\n",
       "  Text(23, 0, 'Desserts, Ice Cream'),\n",
       "  Text(24, 0, 'Fast Food')])"
      ]
     },
     "execution_count": 61,
     "metadata": {},
     "output_type": "execute_result"
    },
    {
     "data": {
      "image/png": "[encoded data removed]",
      "text/plain": [
       "<Figure size 1080x576 with 1 Axes>"
      ]
     },
     "metadata": {},
     "output_type": "display_data"
    }
   ],
   "source": [
    "plt.figure(figsize = (15,8))\n",
    "sns.barplot(df7.index , df7['votes'])\n",
    "plt.xticks(rotation = 90)\n"
   ]
  },
  {
   "cell_type": "code",
   "execution_count": null,
   "id": "6ddcc293",
   "metadata": {},
   "outputs": [],
   "source": []
  }
 ],
 "metadata": {
  "kernelspec": {
   "display_name": "Python 3 (ipykernel)",
   "language": "python",
   "name": "python3"
  },
  "language_info": {
   "codemirror_mode": {
    "name": "ipython",
    "version": 3
   },
   "file_extension": ".py",
   "mimetype": "text/x-python",
   "name": "python",
   "nbconvert_exporter": "python",
   "pygments_lexer": "ipython3",
   "version": "3.9.12"
  }
 },
 "nbformat": 4,
 "nbformat_minor": 5
}
